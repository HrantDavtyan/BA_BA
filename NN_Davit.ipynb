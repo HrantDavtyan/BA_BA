{
  "cells": [
    {
      "cell_type": "markdown",
      "source": [
        "# Multiclass classification with Neural Networks"
      ],
      "metadata": {
        "id": "xgrlespWLJhJ",
        "colab_type": "text"
      }
    },
    {
      "cell_type": "code",
      "source": [
        "#importing libs\n",
        "import pandas as pd\n",
        "import numpy as np\n",
        "import matplotlib.pyplot as plt\n",
        "import seaborn as sns\n",
        "\n",
        "from sklearn.linear_model import LogisticRegression\n",
        "from sklearn.tree import DecisionTreeClassifier\n",
        "from sklearn.ensemble import RandomForestClassifier, GradientBoostingClassifier\n",
        "from sklearn.neural_network import MLPClassifier\n",
        "\n",
        "from sklearn.model_selection import train_test_split, GridSearchCV, cross_val_score\n",
        "from sklearn.metrics import recall_score, roc_auc_score\n",
        "from sklearn.preprocessing import LabelEncoder, OneHotEncoder\n",
        "from sklearn.preprocessing import StandardScaler\n"
      ],
      "outputs": [],
      "execution_count": 0,
      "metadata": {
        "id": "BIh-mu91KyYP",
        "colab_type": "code",
        "colab": {
          "autoexec": {
            "startup": false,
            "wait_interval": 0
          }
        },
        "cellView": "code"
      }
    },
    {
      "cell_type": "code",
      "source": [
        "winde = pd.read_csv(\"winde_data.csv\")\n",
        "wine.head()"
      ],
      "outputs": [
        {
          "output_type": "execute_result",
          "execution_count": 174,
          "data": {
            "text/html": [
              "<div>\n",
              "<style scoped>\n",
              "    .dataframe tbody tr th:only-of-type {\n",
              "        vertical-align: middle;\n",
              "    }\n",
              "\n",
              "    .dataframe tbody tr th {\n",
              "        vertical-align: top;\n",
              "    }\n",
              "\n",
              "    .dataframe thead th {\n",
              "        text-align: right;\n",
              "    }\n",
              "</style>\n",
              "<table border=\"1\" class=\"dataframe\">\n",
              "  <thead>\n",
              "    <tr style=\"text-align: right;\">\n",
              "      <th></th>\n",
              "      <th>Cultivator</th>\n",
              "      <th>Alchol</th>\n",
              "      <th>Malic_Acid</th>\n",
              "      <th>Ash</th>\n",
              "      <th>Alcalinity_of_Ash</th>\n",
              "      <th>Magnesium</th>\n",
              "      <th>Total_phenols</th>\n",
              "      <th>Falvanoids</th>\n",
              "      <th>Nonflavanoid_phenols</th>\n",
              "      <th>Proanthocyanins</th>\n",
              "      <th>Color_intensity</th>\n",
              "      <th>Hue</th>\n",
              "      <th>OD280</th>\n",
              "      <th>Proline</th>\n",
              "    </tr>\n",
              "  </thead>\n",
              "  <tbody>\n",
              "    <tr>\n",
              "      <th>0</th>\n",
              "      <td>1</td>\n",
              "      <td>14.23</td>\n",
              "      <td>1.71</td>\n",
              "      <td>2.43</td>\n",
              "      <td>15.6</td>\n",
              "      <td>127</td>\n",
              "      <td>2.80</td>\n",
              "      <td>3.06</td>\n",
              "      <td>0.28</td>\n",
              "      <td>2.29</td>\n",
              "      <td>5.64</td>\n",
              "      <td>1.04</td>\n",
              "      <td>3.92</td>\n",
              "      <td>1065</td>\n",
              "    </tr>\n",
              "    <tr>\n",
              "      <th>1</th>\n",
              "      <td>1</td>\n",
              "      <td>13.20</td>\n",
              "      <td>1.78</td>\n",
              "      <td>2.14</td>\n",
              "      <td>11.2</td>\n",
              "      <td>100</td>\n",
              "      <td>2.65</td>\n",
              "      <td>2.76</td>\n",
              "      <td>0.26</td>\n",
              "      <td>1.28</td>\n",
              "      <td>4.38</td>\n",
              "      <td>1.05</td>\n",
              "      <td>3.40</td>\n",
              "      <td>1050</td>\n",
              "    </tr>\n",
              "    <tr>\n",
              "      <th>2</th>\n",
              "      <td>1</td>\n",
              "      <td>13.16</td>\n",
              "      <td>2.36</td>\n",
              "      <td>2.67</td>\n",
              "      <td>18.6</td>\n",
              "      <td>101</td>\n",
              "      <td>2.80</td>\n",
              "      <td>3.24</td>\n",
              "      <td>0.30</td>\n",
              "      <td>2.81</td>\n",
              "      <td>5.68</td>\n",
              "      <td>1.03</td>\n",
              "      <td>3.17</td>\n",
              "      <td>1185</td>\n",
              "    </tr>\n",
              "    <tr>\n",
              "      <th>3</th>\n",
              "      <td>1</td>\n",
              "      <td>14.37</td>\n",
              "      <td>1.95</td>\n",
              "      <td>2.50</td>\n",
              "      <td>16.8</td>\n",
              "      <td>113</td>\n",
              "      <td>3.85</td>\n",
              "      <td>3.49</td>\n",
              "      <td>0.24</td>\n",
              "      <td>2.18</td>\n",
              "      <td>7.80</td>\n",
              "      <td>0.86</td>\n",
              "      <td>3.45</td>\n",
              "      <td>1480</td>\n",
              "    </tr>\n",
              "    <tr>\n",
              "      <th>4</th>\n",
              "      <td>1</td>\n",
              "      <td>13.24</td>\n",
              "      <td>2.59</td>\n",
              "      <td>2.87</td>\n",
              "      <td>21.0</td>\n",
              "      <td>118</td>\n",
              "      <td>2.80</td>\n",
              "      <td>2.69</td>\n",
              "      <td>0.39</td>\n",
              "      <td>1.82</td>\n",
              "      <td>4.32</td>\n",
              "      <td>1.04</td>\n",
              "      <td>2.93</td>\n",
              "      <td>735</td>\n",
              "    </tr>\n",
              "  </tbody>\n",
              "</table>\n",
              "</div>"
            ],
            "text/plain": [
              "   Cultivator   Alchol   Malic_Acid   Ash   Alcalinity_of_Ash   Magnesium  \\\n",
              "0           1    14.23         1.71  2.43                15.6         127   \n",
              "1           1    13.20         1.78  2.14                11.2         100   \n",
              "2           1    13.16         2.36  2.67                18.6         101   \n",
              "3           1    14.37         1.95  2.50                16.8         113   \n",
              "4           1    13.24         2.59  2.87                21.0         118   \n",
              "\n",
              "    Total_phenols   Falvanoids   Nonflavanoid_phenols   Proanthocyanins  \\\n",
              "0            2.80         3.06                   0.28              2.29   \n",
              "1            2.65         2.76                   0.26              1.28   \n",
              "2            2.80         3.24                   0.30              2.81   \n",
              "3            3.85         3.49                   0.24              2.18   \n",
              "4            2.80         2.69                   0.39              1.82   \n",
              "\n",
              "    Color_intensity   Hue   OD280   Proline  \n",
              "0              5.64  1.04    3.92      1065  \n",
              "1              4.38  1.05    3.40      1050  \n",
              "2              5.68  1.03    3.17      1185  \n",
              "3              7.80  0.86    3.45      1480  \n",
              "4              4.32  1.04    2.93       735  "
            ]
          },
          "metadata": {
            "tags": []
          }
        }
      ],
      "execution_count": 174,
      "metadata": {
        "id": "mUHMNM9AZc3O",
        "colab_type": "code",
        "colab": {
          "autoexec": {
            "startup": false,
            "wait_interval": 0
          },
          "base_uri": "https://localhost:8080/",
          "height": 203
        },
        "outputId": "6129ec5b-a986-4309-b24c-11ddf061f3af",
        "executionInfo": {
          "status": "ok",
          "timestamp": 1525772759779,
          "user_tz": -240,
          "elapsed": 689,
          "user": {
            "displayName": "Davit Abgaryan",
            "photoUrl": "//lh3.googleusercontent.com/-bmf3vKKO4Fk/AAAAAAAAAAI/AAAAAAAAAFA/swJvE3elKYQ/s50-c-k-no/photo.jpg",
            "userId": "117210301999788128868"
          }
        }
      }
    },
    {
      "cell_type": "code",
      "source": [
        "wine.describe().transpose()"
      ],
      "outputs": [
        {
          "output_type": "execute_result",
          "execution_count": 175,
          "data": {
            "text/html": [
              "<div>\n",
              "<style scoped>\n",
              "    .dataframe tbody tr th:only-of-type {\n",
              "        vertical-align: middle;\n",
              "    }\n",
              "\n",
              "    .dataframe tbody tr th {\n",
              "        vertical-align: top;\n",
              "    }\n",
              "\n",
              "    .dataframe thead th {\n",
              "        text-align: right;\n",
              "    }\n",
              "</style>\n",
              "<table border=\"1\" class=\"dataframe\">\n",
              "  <thead>\n",
              "    <tr style=\"text-align: right;\">\n",
              "      <th></th>\n",
              "      <th>count</th>\n",
              "      <th>mean</th>\n",
              "      <th>std</th>\n",
              "      <th>min</th>\n",
              "      <th>25%</th>\n",
              "      <th>50%</th>\n",
              "      <th>75%</th>\n",
              "      <th>max</th>\n",
              "    </tr>\n",
              "  </thead>\n",
              "  <tbody>\n",
              "    <tr>\n",
              "      <th>Cultivator</th>\n",
              "      <td>178.0</td>\n",
              "      <td>1.938202</td>\n",
              "      <td>0.775035</td>\n",
              "      <td>1.00</td>\n",
              "      <td>1.0000</td>\n",
              "      <td>2.000</td>\n",
              "      <td>3.0000</td>\n",
              "      <td>3.00</td>\n",
              "    </tr>\n",
              "    <tr>\n",
              "      <th>Alchol</th>\n",
              "      <td>178.0</td>\n",
              "      <td>13.000618</td>\n",
              "      <td>0.811827</td>\n",
              "      <td>11.03</td>\n",
              "      <td>12.3625</td>\n",
              "      <td>13.050</td>\n",
              "      <td>13.6775</td>\n",
              "      <td>14.83</td>\n",
              "    </tr>\n",
              "    <tr>\n",
              "      <th>Malic_Acid</th>\n",
              "      <td>178.0</td>\n",
              "      <td>2.336348</td>\n",
              "      <td>1.117146</td>\n",
              "      <td>0.74</td>\n",
              "      <td>1.6025</td>\n",
              "      <td>1.865</td>\n",
              "      <td>3.0825</td>\n",
              "      <td>5.80</td>\n",
              "    </tr>\n",
              "    <tr>\n",
              "      <th>Ash</th>\n",
              "      <td>178.0</td>\n",
              "      <td>2.366517</td>\n",
              "      <td>0.274344</td>\n",
              "      <td>1.36</td>\n",
              "      <td>2.2100</td>\n",
              "      <td>2.360</td>\n",
              "      <td>2.5575</td>\n",
              "      <td>3.23</td>\n",
              "    </tr>\n",
              "    <tr>\n",
              "      <th>Alcalinity_of_Ash</th>\n",
              "      <td>178.0</td>\n",
              "      <td>19.494944</td>\n",
              "      <td>3.339564</td>\n",
              "      <td>10.60</td>\n",
              "      <td>17.2000</td>\n",
              "      <td>19.500</td>\n",
              "      <td>21.5000</td>\n",
              "      <td>30.00</td>\n",
              "    </tr>\n",
              "    <tr>\n",
              "      <th>Magnesium</th>\n",
              "      <td>178.0</td>\n",
              "      <td>99.741573</td>\n",
              "      <td>14.282484</td>\n",
              "      <td>70.00</td>\n",
              "      <td>88.0000</td>\n",
              "      <td>98.000</td>\n",
              "      <td>107.0000</td>\n",
              "      <td>162.00</td>\n",
              "    </tr>\n",
              "    <tr>\n",
              "      <th>Total_phenols</th>\n",
              "      <td>178.0</td>\n",
              "      <td>2.295112</td>\n",
              "      <td>0.625851</td>\n",
              "      <td>0.98</td>\n",
              "      <td>1.7425</td>\n",
              "      <td>2.355</td>\n",
              "      <td>2.8000</td>\n",
              "      <td>3.88</td>\n",
              "    </tr>\n",
              "    <tr>\n",
              "      <th>Falvanoids</th>\n",
              "      <td>178.0</td>\n",
              "      <td>2.029270</td>\n",
              "      <td>0.998859</td>\n",
              "      <td>0.34</td>\n",
              "      <td>1.2050</td>\n",
              "      <td>2.135</td>\n",
              "      <td>2.8750</td>\n",
              "      <td>5.08</td>\n",
              "    </tr>\n",
              "    <tr>\n",
              "      <th>Nonflavanoid_phenols</th>\n",
              "      <td>178.0</td>\n",
              "      <td>0.361854</td>\n",
              "      <td>0.124453</td>\n",
              "      <td>0.13</td>\n",
              "      <td>0.2700</td>\n",
              "      <td>0.340</td>\n",
              "      <td>0.4375</td>\n",
              "      <td>0.66</td>\n",
              "    </tr>\n",
              "    <tr>\n",
              "      <th>Proanthocyanins</th>\n",
              "      <td>178.0</td>\n",
              "      <td>1.590899</td>\n",
              "      <td>0.572359</td>\n",
              "      <td>0.41</td>\n",
              "      <td>1.2500</td>\n",
              "      <td>1.555</td>\n",
              "      <td>1.9500</td>\n",
              "      <td>3.58</td>\n",
              "    </tr>\n",
              "    <tr>\n",
              "      <th>Color_intensity</th>\n",
              "      <td>178.0</td>\n",
              "      <td>5.058090</td>\n",
              "      <td>2.318286</td>\n",
              "      <td>1.28</td>\n",
              "      <td>3.2200</td>\n",
              "      <td>4.690</td>\n",
              "      <td>6.2000</td>\n",
              "      <td>13.00</td>\n",
              "    </tr>\n",
              "    <tr>\n",
              "      <th>Hue</th>\n",
              "      <td>178.0</td>\n",
              "      <td>0.957449</td>\n",
              "      <td>0.228572</td>\n",
              "      <td>0.48</td>\n",
              "      <td>0.7825</td>\n",
              "      <td>0.965</td>\n",
              "      <td>1.1200</td>\n",
              "      <td>1.71</td>\n",
              "    </tr>\n",
              "    <tr>\n",
              "      <th>OD280</th>\n",
              "      <td>178.0</td>\n",
              "      <td>2.611685</td>\n",
              "      <td>0.709990</td>\n",
              "      <td>1.27</td>\n",
              "      <td>1.9375</td>\n",
              "      <td>2.780</td>\n",
              "      <td>3.1700</td>\n",
              "      <td>4.00</td>\n",
              "    </tr>\n",
              "    <tr>\n",
              "      <th>Proline</th>\n",
              "      <td>178.0</td>\n",
              "      <td>746.893258</td>\n",
              "      <td>314.907474</td>\n",
              "      <td>278.00</td>\n",
              "      <td>500.5000</td>\n",
              "      <td>673.500</td>\n",
              "      <td>985.0000</td>\n",
              "      <td>1680.00</td>\n",
              "    </tr>\n",
              "  </tbody>\n",
              "</table>\n",
              "</div>"
            ],
            "text/plain": [
              "                       count        mean         std     min       25%  \\\n",
              "Cultivator             178.0    1.938202    0.775035    1.00    1.0000   \n",
              " Alchol                178.0   13.000618    0.811827   11.03   12.3625   \n",
              " Malic_Acid            178.0    2.336348    1.117146    0.74    1.6025   \n",
              " Ash                   178.0    2.366517    0.274344    1.36    2.2100   \n",
              " Alcalinity_of_Ash     178.0   19.494944    3.339564   10.60   17.2000   \n",
              " Magnesium             178.0   99.741573   14.282484   70.00   88.0000   \n",
              " Total_phenols         178.0    2.295112    0.625851    0.98    1.7425   \n",
              " Falvanoids            178.0    2.029270    0.998859    0.34    1.2050   \n",
              " Nonflavanoid_phenols  178.0    0.361854    0.124453    0.13    0.2700   \n",
              " Proanthocyanins       178.0    1.590899    0.572359    0.41    1.2500   \n",
              " Color_intensity       178.0    5.058090    2.318286    1.28    3.2200   \n",
              " Hue                   178.0    0.957449    0.228572    0.48    0.7825   \n",
              " OD280                 178.0    2.611685    0.709990    1.27    1.9375   \n",
              " Proline               178.0  746.893258  314.907474  278.00  500.5000   \n",
              "\n",
              "                           50%       75%      max  \n",
              "Cultivator               2.000    3.0000     3.00  \n",
              " Alchol                 13.050   13.6775    14.83  \n",
              " Malic_Acid              1.865    3.0825     5.80  \n",
              " Ash                     2.360    2.5575     3.23  \n",
              " Alcalinity_of_Ash      19.500   21.5000    30.00  \n",
              " Magnesium              98.000  107.0000   162.00  \n",
              " Total_phenols           2.355    2.8000     3.88  \n",
              " Falvanoids              2.135    2.8750     5.08  \n",
              " Nonflavanoid_phenols    0.340    0.4375     0.66  \n",
              " Proanthocyanins         1.555    1.9500     3.58  \n",
              " Color_intensity         4.690    6.2000    13.00  \n",
              " Hue                     0.965    1.1200     1.71  \n",
              " OD280                   2.780    3.1700     4.00  \n",
              " Proline               673.500  985.0000  1680.00  "
            ]
          },
          "metadata": {
            "tags": []
          }
        }
      ],
      "execution_count": 175,
      "metadata": {
        "id": "F8BVFDvyL0zg",
        "colab_type": "code",
        "colab": {
          "autoexec": {
            "startup": false,
            "wait_interval": 0
          },
          "base_uri": "https://localhost:8080/",
          "height": 480
        },
        "outputId": "8abb94e9-f3e7-4dd0-dbd1-b546b35e0af3",
        "executionInfo": {
          "status": "ok",
          "timestamp": 1525772760532,
          "user_tz": -240,
          "elapsed": 572,
          "user": {
            "displayName": "Davit Abgaryan",
            "photoUrl": "//lh3.googleusercontent.com/-bmf3vKKO4Fk/AAAAAAAAAAI/AAAAAAAAAFA/swJvE3elKYQ/s50-c-k-no/photo.jpg",
            "userId": "117210301999788128868"
          }
        }
      }
    },
    {
      "cell_type": "code",
      "source": [
        "wine.shape"
      ],
      "outputs": [
        {
          "output_type": "execute_result",
          "execution_count": 176,
          "data": {
            "text/plain": [
              "(178, 14)"
            ]
          },
          "metadata": {
            "tags": []
          }
        }
      ],
      "execution_count": 176,
      "metadata": {
        "id": "sSgaGFFBce74",
        "colab_type": "code",
        "colab": {
          "autoexec": {
            "startup": false,
            "wait_interval": 0
          },
          "base_uri": "https://localhost:8080/",
          "height": 35
        },
        "outputId": "fa8541f6-ae23-4d2a-b97d-1411069c0228",
        "executionInfo": {
          "status": "ok",
          "timestamp": 1525772761189,
          "user_tz": -240,
          "elapsed": 561,
          "user": {
            "displayName": "Davit Abgaryan",
            "photoUrl": "//lh3.googleusercontent.com/-bmf3vKKO4Fk/AAAAAAAAAAI/AAAAAAAAAFA/swJvE3elKYQ/s50-c-k-no/photo.jpg",
            "userId": "117210301999788128868"
          }
        }
      }
    },
    {
      "cell_type": "code",
      "source": [
        "wine.info()"
      ],
      "outputs": [
        {
          "output_type": "stream",
          "name": "stdout",
          "text": [
            "<class 'pandas.core.frame.DataFrame'>\n",
            "RangeIndex: 178 entries, 0 to 177\n",
            "Data columns (total 13 columns):\n",
            "Cultivator               178 non-null int64\n",
            " Alchol                  178 non-null float64\n",
            " Malic_Acid              178 non-null float64\n",
            " Ash                     178 non-null float64\n",
            " Alcalinity_of_Ash       178 non-null float64\n",
            " Magnesium               178 non-null int64\n",
            " Total_phenols           178 non-null float64\n",
            " Nonflavanoid_phenols    178 non-null float64\n",
            " Proanthocyanins         178 non-null float64\n",
            " Color_intensity         178 non-null float64\n",
            " Hue                     178 non-null float64\n",
            " OD280                   178 non-null float64\n",
            " Proline                 178 non-null int64\n",
            "dtypes: float64(10), int64(3)\n",
            "memory usage: 18.2 KB\n"
          ]
        }
      ],
      "execution_count": 188,
      "metadata": {
        "id": "x99NBnV5Jw4J",
        "colab_type": "code",
        "colab": {
          "autoexec": {
            "startup": false,
            "wait_interval": 0
          },
          "base_uri": "https://localhost:8080/",
          "height": 334
        },
        "outputId": "1140a343-1b83-4079-b593-d9f465154d6e",
        "executionInfo": {
          "status": "ok",
          "timestamp": 1525772925120,
          "user_tz": -240,
          "elapsed": 668,
          "user": {
            "displayName": "Davit Abgaryan",
            "photoUrl": "//lh3.googleusercontent.com/-bmf3vKKO4Fk/AAAAAAAAAAI/AAAAAAAAAFA/swJvE3elKYQ/s50-c-k-no/photo.jpg",
            "userId": "117210301999788128868"
          }
        }
      }
    },
    {
      "cell_type": "code",
      "source": [
        "wine.corr()\n"
      ],
      "outputs": [
        {
          "output_type": "execute_result",
          "execution_count": 177,
          "data": {
            "text/html": [
              "<div>\n",
              "<style scoped>\n",
              "    .dataframe tbody tr th:only-of-type {\n",
              "        vertical-align: middle;\n",
              "    }\n",
              "\n",
              "    .dataframe tbody tr th {\n",
              "        vertical-align: top;\n",
              "    }\n",
              "\n",
              "    .dataframe thead th {\n",
              "        text-align: right;\n",
              "    }\n",
              "</style>\n",
              "<table border=\"1\" class=\"dataframe\">\n",
              "  <thead>\n",
              "    <tr style=\"text-align: right;\">\n",
              "      <th></th>\n",
              "      <th>Cultivator</th>\n",
              "      <th>Alchol</th>\n",
              "      <th>Malic_Acid</th>\n",
              "      <th>Ash</th>\n",
              "      <th>Alcalinity_of_Ash</th>\n",
              "      <th>Magnesium</th>\n",
              "      <th>Total_phenols</th>\n",
              "      <th>Falvanoids</th>\n",
              "      <th>Nonflavanoid_phenols</th>\n",
              "      <th>Proanthocyanins</th>\n",
              "      <th>Color_intensity</th>\n",
              "      <th>Hue</th>\n",
              "      <th>OD280</th>\n",
              "      <th>Proline</th>\n",
              "    </tr>\n",
              "  </thead>\n",
              "  <tbody>\n",
              "    <tr>\n",
              "      <th>Cultivator</th>\n",
              "      <td>1.000000</td>\n",
              "      <td>-0.328222</td>\n",
              "      <td>0.437776</td>\n",
              "      <td>-0.049643</td>\n",
              "      <td>0.517859</td>\n",
              "      <td>-0.209179</td>\n",
              "      <td>-0.719163</td>\n",
              "      <td>-0.847498</td>\n",
              "      <td>0.489109</td>\n",
              "      <td>-0.499130</td>\n",
              "      <td>0.265668</td>\n",
              "      <td>-0.617369</td>\n",
              "      <td>-0.788230</td>\n",
              "      <td>-0.633717</td>\n",
              "    </tr>\n",
              "    <tr>\n",
              "      <th>Alchol</th>\n",
              "      <td>-0.328222</td>\n",
              "      <td>1.000000</td>\n",
              "      <td>0.094397</td>\n",
              "      <td>0.211545</td>\n",
              "      <td>-0.310235</td>\n",
              "      <td>0.270798</td>\n",
              "      <td>0.289101</td>\n",
              "      <td>0.236815</td>\n",
              "      <td>-0.155929</td>\n",
              "      <td>0.136698</td>\n",
              "      <td>0.546364</td>\n",
              "      <td>-0.071747</td>\n",
              "      <td>0.072343</td>\n",
              "      <td>0.643720</td>\n",
              "    </tr>\n",
              "    <tr>\n",
              "      <th>Malic_Acid</th>\n",
              "      <td>0.437776</td>\n",
              "      <td>0.094397</td>\n",
              "      <td>1.000000</td>\n",
              "      <td>0.164045</td>\n",
              "      <td>0.288500</td>\n",
              "      <td>-0.054575</td>\n",
              "      <td>-0.335167</td>\n",
              "      <td>-0.411007</td>\n",
              "      <td>0.292977</td>\n",
              "      <td>-0.220746</td>\n",
              "      <td>0.248985</td>\n",
              "      <td>-0.561296</td>\n",
              "      <td>-0.368710</td>\n",
              "      <td>-0.192011</td>\n",
              "    </tr>\n",
              "    <tr>\n",
              "      <th>Ash</th>\n",
              "      <td>-0.049643</td>\n",
              "      <td>0.211545</td>\n",
              "      <td>0.164045</td>\n",
              "      <td>1.000000</td>\n",
              "      <td>0.443367</td>\n",
              "      <td>0.286587</td>\n",
              "      <td>0.128980</td>\n",
              "      <td>0.115077</td>\n",
              "      <td>0.186230</td>\n",
              "      <td>0.009652</td>\n",
              "      <td>0.258887</td>\n",
              "      <td>-0.074667</td>\n",
              "      <td>0.003911</td>\n",
              "      <td>0.223626</td>\n",
              "    </tr>\n",
              "    <tr>\n",
              "      <th>Alcalinity_of_Ash</th>\n",
              "      <td>0.517859</td>\n",
              "      <td>-0.310235</td>\n",
              "      <td>0.288500</td>\n",
              "      <td>0.443367</td>\n",
              "      <td>1.000000</td>\n",
              "      <td>-0.083333</td>\n",
              "      <td>-0.321113</td>\n",
              "      <td>-0.351370</td>\n",
              "      <td>0.361922</td>\n",
              "      <td>-0.197327</td>\n",
              "      <td>0.018732</td>\n",
              "      <td>-0.273955</td>\n",
              "      <td>-0.276769</td>\n",
              "      <td>-0.440597</td>\n",
              "    </tr>\n",
              "    <tr>\n",
              "      <th>Magnesium</th>\n",
              "      <td>-0.209179</td>\n",
              "      <td>0.270798</td>\n",
              "      <td>-0.054575</td>\n",
              "      <td>0.286587</td>\n",
              "      <td>-0.083333</td>\n",
              "      <td>1.000000</td>\n",
              "      <td>0.214401</td>\n",
              "      <td>0.195784</td>\n",
              "      <td>-0.256294</td>\n",
              "      <td>0.236441</td>\n",
              "      <td>0.199950</td>\n",
              "      <td>0.055398</td>\n",
              "      <td>0.066004</td>\n",
              "      <td>0.393351</td>\n",
              "    </tr>\n",
              "    <tr>\n",
              "      <th>Total_phenols</th>\n",
              "      <td>-0.719163</td>\n",
              "      <td>0.289101</td>\n",
              "      <td>-0.335167</td>\n",
              "      <td>0.128980</td>\n",
              "      <td>-0.321113</td>\n",
              "      <td>0.214401</td>\n",
              "      <td>1.000000</td>\n",
              "      <td>0.864564</td>\n",
              "      <td>-0.449935</td>\n",
              "      <td>0.612413</td>\n",
              "      <td>-0.055136</td>\n",
              "      <td>0.433681</td>\n",
              "      <td>0.699949</td>\n",
              "      <td>0.498115</td>\n",
              "    </tr>\n",
              "    <tr>\n",
              "      <th>Falvanoids</th>\n",
              "      <td>-0.847498</td>\n",
              "      <td>0.236815</td>\n",
              "      <td>-0.411007</td>\n",
              "      <td>0.115077</td>\n",
              "      <td>-0.351370</td>\n",
              "      <td>0.195784</td>\n",
              "      <td>0.864564</td>\n",
              "      <td>1.000000</td>\n",
              "      <td>-0.537900</td>\n",
              "      <td>0.652692</td>\n",
              "      <td>-0.172379</td>\n",
              "      <td>0.543479</td>\n",
              "      <td>0.787194</td>\n",
              "      <td>0.494193</td>\n",
              "    </tr>\n",
              "    <tr>\n",
              "      <th>Nonflavanoid_phenols</th>\n",
              "      <td>0.489109</td>\n",
              "      <td>-0.155929</td>\n",
              "      <td>0.292977</td>\n",
              "      <td>0.186230</td>\n",
              "      <td>0.361922</td>\n",
              "      <td>-0.256294</td>\n",
              "      <td>-0.449935</td>\n",
              "      <td>-0.537900</td>\n",
              "      <td>1.000000</td>\n",
              "      <td>-0.365845</td>\n",
              "      <td>0.139057</td>\n",
              "      <td>-0.262640</td>\n",
              "      <td>-0.503270</td>\n",
              "      <td>-0.311385</td>\n",
              "    </tr>\n",
              "    <tr>\n",
              "      <th>Proanthocyanins</th>\n",
              "      <td>-0.499130</td>\n",
              "      <td>0.136698</td>\n",
              "      <td>-0.220746</td>\n",
              "      <td>0.009652</td>\n",
              "      <td>-0.197327</td>\n",
              "      <td>0.236441</td>\n",
              "      <td>0.612413</td>\n",
              "      <td>0.652692</td>\n",
              "      <td>-0.365845</td>\n",
              "      <td>1.000000</td>\n",
              "      <td>-0.025250</td>\n",
              "      <td>0.295544</td>\n",
              "      <td>0.519067</td>\n",
              "      <td>0.330417</td>\n",
              "    </tr>\n",
              "    <tr>\n",
              "      <th>Color_intensity</th>\n",
              "      <td>0.265668</td>\n",
              "      <td>0.546364</td>\n",
              "      <td>0.248985</td>\n",
              "      <td>0.258887</td>\n",
              "      <td>0.018732</td>\n",
              "      <td>0.199950</td>\n",
              "      <td>-0.055136</td>\n",
              "      <td>-0.172379</td>\n",
              "      <td>0.139057</td>\n",
              "      <td>-0.025250</td>\n",
              "      <td>1.000000</td>\n",
              "      <td>-0.521813</td>\n",
              "      <td>-0.428815</td>\n",
              "      <td>0.316100</td>\n",
              "    </tr>\n",
              "    <tr>\n",
              "      <th>Hue</th>\n",
              "      <td>-0.617369</td>\n",
              "      <td>-0.071747</td>\n",
              "      <td>-0.561296</td>\n",
              "      <td>-0.074667</td>\n",
              "      <td>-0.273955</td>\n",
              "      <td>0.055398</td>\n",
              "      <td>0.433681</td>\n",
              "      <td>0.543479</td>\n",
              "      <td>-0.262640</td>\n",
              "      <td>0.295544</td>\n",
              "      <td>-0.521813</td>\n",
              "      <td>1.000000</td>\n",
              "      <td>0.565468</td>\n",
              "      <td>0.236183</td>\n",
              "    </tr>\n",
              "    <tr>\n",
              "      <th>OD280</th>\n",
              "      <td>-0.788230</td>\n",
              "      <td>0.072343</td>\n",
              "      <td>-0.368710</td>\n",
              "      <td>0.003911</td>\n",
              "      <td>-0.276769</td>\n",
              "      <td>0.066004</td>\n",
              "      <td>0.699949</td>\n",
              "      <td>0.787194</td>\n",
              "      <td>-0.503270</td>\n",
              "      <td>0.519067</td>\n",
              "      <td>-0.428815</td>\n",
              "      <td>0.565468</td>\n",
              "      <td>1.000000</td>\n",
              "      <td>0.312761</td>\n",
              "    </tr>\n",
              "    <tr>\n",
              "      <th>Proline</th>\n",
              "      <td>-0.633717</td>\n",
              "      <td>0.643720</td>\n",
              "      <td>-0.192011</td>\n",
              "      <td>0.223626</td>\n",
              "      <td>-0.440597</td>\n",
              "      <td>0.393351</td>\n",
              "      <td>0.498115</td>\n",
              "      <td>0.494193</td>\n",
              "      <td>-0.311385</td>\n",
              "      <td>0.330417</td>\n",
              "      <td>0.316100</td>\n",
              "      <td>0.236183</td>\n",
              "      <td>0.312761</td>\n",
              "      <td>1.000000</td>\n",
              "    </tr>\n",
              "  </tbody>\n",
              "</table>\n",
              "</div>"
            ],
            "text/plain": [
              "                       Cultivator    Alchol   Malic_Acid       Ash  \\\n",
              "Cultivator               1.000000 -0.328222     0.437776 -0.049643   \n",
              " Alchol                 -0.328222  1.000000     0.094397  0.211545   \n",
              " Malic_Acid              0.437776  0.094397     1.000000  0.164045   \n",
              " Ash                    -0.049643  0.211545     0.164045  1.000000   \n",
              " Alcalinity_of_Ash       0.517859 -0.310235     0.288500  0.443367   \n",
              " Magnesium              -0.209179  0.270798    -0.054575  0.286587   \n",
              " Total_phenols          -0.719163  0.289101    -0.335167  0.128980   \n",
              " Falvanoids             -0.847498  0.236815    -0.411007  0.115077   \n",
              " Nonflavanoid_phenols    0.489109 -0.155929     0.292977  0.186230   \n",
              " Proanthocyanins        -0.499130  0.136698    -0.220746  0.009652   \n",
              " Color_intensity         0.265668  0.546364     0.248985  0.258887   \n",
              " Hue                    -0.617369 -0.071747    -0.561296 -0.074667   \n",
              " OD280                  -0.788230  0.072343    -0.368710  0.003911   \n",
              " Proline                -0.633717  0.643720    -0.192011  0.223626   \n",
              "\n",
              "                        Alcalinity_of_Ash   Magnesium   Total_phenols  \\\n",
              "Cultivator                       0.517859   -0.209179       -0.719163   \n",
              " Alchol                         -0.310235    0.270798        0.289101   \n",
              " Malic_Acid                      0.288500   -0.054575       -0.335167   \n",
              " Ash                             0.443367    0.286587        0.128980   \n",
              " Alcalinity_of_Ash               1.000000   -0.083333       -0.321113   \n",
              " Magnesium                      -0.083333    1.000000        0.214401   \n",
              " Total_phenols                  -0.321113    0.214401        1.000000   \n",
              " Falvanoids                     -0.351370    0.195784        0.864564   \n",
              " Nonflavanoid_phenols            0.361922   -0.256294       -0.449935   \n",
              " Proanthocyanins                -0.197327    0.236441        0.612413   \n",
              " Color_intensity                 0.018732    0.199950       -0.055136   \n",
              " Hue                            -0.273955    0.055398        0.433681   \n",
              " OD280                          -0.276769    0.066004        0.699949   \n",
              " Proline                        -0.440597    0.393351        0.498115   \n",
              "\n",
              "                        Falvanoids   Nonflavanoid_phenols   Proanthocyanins  \\\n",
              "Cultivator               -0.847498               0.489109         -0.499130   \n",
              " Alchol                   0.236815              -0.155929          0.136698   \n",
              " Malic_Acid              -0.411007               0.292977         -0.220746   \n",
              " Ash                      0.115077               0.186230          0.009652   \n",
              " Alcalinity_of_Ash       -0.351370               0.361922         -0.197327   \n",
              " Magnesium                0.195784              -0.256294          0.236441   \n",
              " Total_phenols            0.864564              -0.449935          0.612413   \n",
              " Falvanoids               1.000000              -0.537900          0.652692   \n",
              " Nonflavanoid_phenols    -0.537900               1.000000         -0.365845   \n",
              " Proanthocyanins          0.652692              -0.365845          1.000000   \n",
              " Color_intensity         -0.172379               0.139057         -0.025250   \n",
              " Hue                      0.543479              -0.262640          0.295544   \n",
              " OD280                    0.787194              -0.503270          0.519067   \n",
              " Proline                  0.494193              -0.311385          0.330417   \n",
              "\n",
              "                        Color_intensity       Hue     OD280   Proline  \n",
              "Cultivator                     0.265668 -0.617369 -0.788230 -0.633717  \n",
              " Alchol                        0.546364 -0.071747  0.072343  0.643720  \n",
              " Malic_Acid                    0.248985 -0.561296 -0.368710 -0.192011  \n",
              " Ash                           0.258887 -0.074667  0.003911  0.223626  \n",
              " Alcalinity_of_Ash             0.018732 -0.273955 -0.276769 -0.440597  \n",
              " Magnesium                     0.199950  0.055398  0.066004  0.393351  \n",
              " Total_phenols                -0.055136  0.433681  0.699949  0.498115  \n",
              " Falvanoids                   -0.172379  0.543479  0.787194  0.494193  \n",
              " Nonflavanoid_phenols          0.139057 -0.262640 -0.503270 -0.311385  \n",
              " Proanthocyanins              -0.025250  0.295544  0.519067  0.330417  \n",
              " Color_intensity               1.000000 -0.521813 -0.428815  0.316100  \n",
              " Hue                          -0.521813  1.000000  0.565468  0.236183  \n",
              " OD280                        -0.428815  0.565468  1.000000  0.312761  \n",
              " Proline                       0.316100  0.236183  0.312761  1.000000  "
            ]
          },
          "metadata": {
            "tags": []
          }
        }
      ],
      "execution_count": 177,
      "metadata": {
        "id": "TM_aigl3XavU",
        "colab_type": "code",
        "colab": {
          "autoexec": {
            "startup": false,
            "wait_interval": 0
          },
          "base_uri": "https://localhost:8080/",
          "height": 500
        },
        "outputId": "c9a91593-dae4-452d-86d8-6ed5fdf6cf77",
        "executionInfo": {
          "status": "ok",
          "timestamp": 1525772762002,
          "user_tz": -240,
          "elapsed": 725,
          "user": {
            "displayName": "Davit Abgaryan",
            "photoUrl": "//lh3.googleusercontent.com/-bmf3vKKO4Fk/AAAAAAAAAAI/AAAAAAAAAFA/swJvE3elKYQ/s50-c-k-no/photo.jpg",
            "userId": "117210301999788128868"
          }
        }
      }
    },
    {
      "cell_type": "code",
      "source": [
        "corr=wine.corr()\n",
        "sns.heatmap(corr, \n",
        "            xticklabels=corr.columns.values,\n",
        "            yticklabels=corr.columns.values)"
      ],
      "outputs": [
        {
          "output_type": "execute_result",
          "execution_count": 178,
          "data": {
            "text/plain": [
              "<matplotlib.axes._subplots.AxesSubplot at 0x7f44673816a0>"
            ]
          },
          "metadata": {
            "tags": []
          }
        },
        {
          "output_type": "display_data",
          "data": {
            "image/png": "[encoded data removed]",
            "text/plain": [
              "<matplotlib.figure.Figure at 0x7f4467494828>"
            ]
          },
          "metadata": {
            "tags": []
          }
        }
      ],
      "execution_count": 178,
      "metadata": {
        "id": "m5L-H9WiVSmz",
        "colab_type": "code",
        "colab": {
          "autoexec": {
            "startup": false,
            "wait_interval": 0
          },
          "base_uri": "https://localhost:8080/",
          "height": 456
        },
        "outputId": "f0ffa837-5f07-4354-b781-d7e6ff64e3b2",
        "executionInfo": {
          "status": "ok",
          "timestamp": 1525772763264,
          "user_tz": -240,
          "elapsed": 1183,
          "user": {
            "displayName": "Davit Abgaryan",
            "photoUrl": "//lh3.googleusercontent.com/-bmf3vKKO4Fk/AAAAAAAAAAI/AAAAAAAAAFA/swJvE3elKYQ/s50-c-k-no/photo.jpg",
            "userId": "117210301999788128868"
          }
        }
      }
    },
    {
      "cell_type": "code",
      "source": [
        "#wine=wine.drop('Falvanoids',axis=1)\n",
        "wine1=wine.iloc[:,:7]\n",
        "wine2=wine.iloc[:,8:]\n",
        "wine=wine1.join(wine2)\n",
        "wine.head()"
      ],
      "outputs": [
        {
          "output_type": "execute_result",
          "execution_count": 179,
          "data": {
            "text/html": [
              "<div>\n",
              "<style scoped>\n",
              "    .dataframe tbody tr th:only-of-type {\n",
              "        vertical-align: middle;\n",
              "    }\n",
              "\n",
              "    .dataframe tbody tr th {\n",
              "        vertical-align: top;\n",
              "    }\n",
              "\n",
              "    .dataframe thead th {\n",
              "        text-align: right;\n",
              "    }\n",
              "</style>\n",
              "<table border=\"1\" class=\"dataframe\">\n",
              "  <thead>\n",
              "    <tr style=\"text-align: right;\">\n",
              "      <th></th>\n",
              "      <th>Cultivator</th>\n",
              "      <th>Alchol</th>\n",
              "      <th>Malic_Acid</th>\n",
              "      <th>Ash</th>\n",
              "      <th>Alcalinity_of_Ash</th>\n",
              "      <th>Magnesium</th>\n",
              "      <th>Total_phenols</th>\n",
              "      <th>Nonflavanoid_phenols</th>\n",
              "      <th>Proanthocyanins</th>\n",
              "      <th>Color_intensity</th>\n",
              "      <th>Hue</th>\n",
              "      <th>OD280</th>\n",
              "      <th>Proline</th>\n",
              "    </tr>\n",
              "  </thead>\n",
              "  <tbody>\n",
              "    <tr>\n",
              "      <th>0</th>\n",
              "      <td>1</td>\n",
              "      <td>14.23</td>\n",
              "      <td>1.71</td>\n",
              "      <td>2.43</td>\n",
              "      <td>15.6</td>\n",
              "      <td>127</td>\n",
              "      <td>2.80</td>\n",
              "      <td>0.28</td>\n",
              "      <td>2.29</td>\n",
              "      <td>5.64</td>\n",
              "      <td>1.04</td>\n",
              "      <td>3.92</td>\n",
              "      <td>1065</td>\n",
              "    </tr>\n",
              "    <tr>\n",
              "      <th>1</th>\n",
              "      <td>1</td>\n",
              "      <td>13.20</td>\n",
              "      <td>1.78</td>\n",
              "      <td>2.14</td>\n",
              "      <td>11.2</td>\n",
              "      <td>100</td>\n",
              "      <td>2.65</td>\n",
              "      <td>0.26</td>\n",
              "      <td>1.28</td>\n",
              "      <td>4.38</td>\n",
              "      <td>1.05</td>\n",
              "      <td>3.40</td>\n",
              "      <td>1050</td>\n",
              "    </tr>\n",
              "    <tr>\n",
              "      <th>2</th>\n",
              "      <td>1</td>\n",
              "      <td>13.16</td>\n",
              "      <td>2.36</td>\n",
              "      <td>2.67</td>\n",
              "      <td>18.6</td>\n",
              "      <td>101</td>\n",
              "      <td>2.80</td>\n",
              "      <td>0.30</td>\n",
              "      <td>2.81</td>\n",
              "      <td>5.68</td>\n",
              "      <td>1.03</td>\n",
              "      <td>3.17</td>\n",
              "      <td>1185</td>\n",
              "    </tr>\n",
              "    <tr>\n",
              "      <th>3</th>\n",
              "      <td>1</td>\n",
              "      <td>14.37</td>\n",
              "      <td>1.95</td>\n",
              "      <td>2.50</td>\n",
              "      <td>16.8</td>\n",
              "      <td>113</td>\n",
              "      <td>3.85</td>\n",
              "      <td>0.24</td>\n",
              "      <td>2.18</td>\n",
              "      <td>7.80</td>\n",
              "      <td>0.86</td>\n",
              "      <td>3.45</td>\n",
              "      <td>1480</td>\n",
              "    </tr>\n",
              "    <tr>\n",
              "      <th>4</th>\n",
              "      <td>1</td>\n",
              "      <td>13.24</td>\n",
              "      <td>2.59</td>\n",
              "      <td>2.87</td>\n",
              "      <td>21.0</td>\n",
              "      <td>118</td>\n",
              "      <td>2.80</td>\n",
              "      <td>0.39</td>\n",
              "      <td>1.82</td>\n",
              "      <td>4.32</td>\n",
              "      <td>1.04</td>\n",
              "      <td>2.93</td>\n",
              "      <td>735</td>\n",
              "    </tr>\n",
              "  </tbody>\n",
              "</table>\n",
              "</div>"
            ],
            "text/plain": [
              "   Cultivator   Alchol   Malic_Acid   Ash   Alcalinity_of_Ash   Magnesium  \\\n",
              "0           1    14.23         1.71  2.43                15.6         127   \n",
              "1           1    13.20         1.78  2.14                11.2         100   \n",
              "2           1    13.16         2.36  2.67                18.6         101   \n",
              "3           1    14.37         1.95  2.50                16.8         113   \n",
              "4           1    13.24         2.59  2.87                21.0         118   \n",
              "\n",
              "    Total_phenols   Nonflavanoid_phenols   Proanthocyanins   Color_intensity  \\\n",
              "0            2.80                   0.28              2.29              5.64   \n",
              "1            2.65                   0.26              1.28              4.38   \n",
              "2            2.80                   0.30              2.81              5.68   \n",
              "3            3.85                   0.24              2.18              7.80   \n",
              "4            2.80                   0.39              1.82              4.32   \n",
              "\n",
              "    Hue   OD280   Proline  \n",
              "0  1.04    3.92      1065  \n",
              "1  1.05    3.40      1050  \n",
              "2  1.03    3.17      1185  \n",
              "3  0.86    3.45      1480  \n",
              "4  1.04    2.93       735  "
            ]
          },
          "metadata": {
            "tags": []
          }
        }
      ],
      "execution_count": 179,
      "metadata": {
        "id": "F91iEk5CYHmj",
        "colab_type": "code",
        "colab": {
          "autoexec": {
            "startup": false,
            "wait_interval": 0
          },
          "base_uri": "https://localhost:8080/",
          "height": 203
        },
        "outputId": "6bdad7d9-64a7-45d1-969d-527d580ec700",
        "executionInfo": {
          "status": "ok",
          "timestamp": 1525772763996,
          "user_tz": -240,
          "elapsed": 660,
          "user": {
            "displayName": "Davit Abgaryan",
            "photoUrl": "//lh3.googleusercontent.com/-bmf3vKKO4Fk/AAAAAAAAAAI/AAAAAAAAAFA/swJvE3elKYQ/s50-c-k-no/photo.jpg",
            "userId": "117210301999788128868"
          }
        }
      }
    },
    {
      "cell_type": "code",
      "source": [
        "wine.Cultivator.value_counts()/len(wine)*100"
      ],
      "outputs": [
        {
          "output_type": "execute_result",
          "execution_count": 180,
          "data": {
            "text/plain": [
              "2    39.887640\n",
              "1    33.146067\n",
              "3    26.966292\n",
              "Name: Cultivator, dtype: float64"
            ]
          },
          "metadata": {
            "tags": []
          }
        }
      ],
      "execution_count": 180,
      "metadata": {
        "id": "Bq_qjhKhxfck",
        "colab_type": "code",
        "colab": {
          "autoexec": {
            "startup": false,
            "wait_interval": 0
          },
          "base_uri": "https://localhost:8080/",
          "height": 87
        },
        "outputId": "03843b3d-7f62-42b0-d7eb-42eaf71927b4",
        "executionInfo": {
          "status": "ok",
          "timestamp": 1525772764963,
          "user_tz": -240,
          "elapsed": 889,
          "user": {
            "displayName": "Davit Abgaryan",
            "photoUrl": "//lh3.googleusercontent.com/-bmf3vKKO4Fk/AAAAAAAAAAI/AAAAAAAAAFA/swJvE3elKYQ/s50-c-k-no/photo.jpg",
            "userId": "117210301999788128868"
          }
        }
      }
    },
    {
      "cell_type": "code",
      "source": [
        "x = wine.drop('Cultivator',axis=1)\n",
        "y = wine['Cultivator']"
      ],
      "outputs": [],
      "execution_count": 0,
      "metadata": {
        "id": "fhorwBqqcnhX",
        "colab_type": "code",
        "colab": {
          "autoexec": {
            "startup": false,
            "wait_interval": 0
          }
        }
      }
    },
    {
      "cell_type": "code",
      "source": [
        "x_train, x_test, y_train, y_test = train_test_split(x, y)"
      ],
      "outputs": [],
      "execution_count": 0,
      "metadata": {
        "id": "ajwSg2gEcsMn",
        "colab_type": "code",
        "colab": {
          "autoexec": {
            "startup": false,
            "wait_interval": 0
          }
        }
      }
    },
    {
      "cell_type": "code",
      "source": [
        "scaler=StandardScaler()\n",
        "\n",
        "# Fit only to the training data\n",
        "scaler.fit(x_train)"
      ],
      "outputs": [
        {
          "output_type": "execute_result",
          "execution_count": 189,
          "data": {
            "text/plain": [
              "StandardScaler(copy=True, with_mean=True, with_std=True)"
            ]
          },
          "metadata": {
            "tags": []
          }
        }
      ],
      "execution_count": 189,
      "metadata": {
        "id": "FRcS1lsMcyy2",
        "colab_type": "code",
        "colab": {
          "autoexec": {
            "startup": false,
            "wait_interval": 0
          },
          "base_uri": "https://localhost:8080/",
          "height": 35
        },
        "outputId": "715d9ef9-ec9d-475a-b858-fe3954942b0b",
        "executionInfo": {
          "status": "ok",
          "timestamp": 1525773073432,
          "user_tz": -240,
          "elapsed": 668,
          "user": {
            "displayName": "Davit Abgaryan",
            "photoUrl": "//lh3.googleusercontent.com/-bmf3vKKO4Fk/AAAAAAAAAAI/AAAAAAAAAFA/swJvE3elKYQ/s50-c-k-no/photo.jpg",
            "userId": "117210301999788128868"
          }
        }
      }
    },
    {
      "cell_type": "code",
      "source": [
        "# Now apply the transformations to the data:\n",
        "x_train = scaler.transform(x_train)\n",
        "x_test = scaler.transform(x_test)"
      ],
      "outputs": [],
      "execution_count": 0,
      "metadata": {
        "id": "g80kpPwHdh6-",
        "colab_type": "code",
        "colab": {
          "autoexec": {
            "startup": false,
            "wait_interval": 0
          }
        }
      }
    },
    {
      "cell_type": "code",
      "source": [
        "mlp = MLPClassifier(activation='relu',solver='adam',hidden_layer_sizes=(13,13,13),max_iter=10000, random_state=42)\n",
        "\nmlp.fit(x_train,y_train)"
      ],
      "outputs": [
        {
          "output_type": "execute_result",
          "execution_count": 197,
          "data": {
            "text/plain": [
              "MLPClassifier(activation='relu', alpha=0.0001, batch_size='auto', beta_1=0.9,\n",
              "       beta_2=0.999, early_stopping=False, epsilon=1e-08,\n",
              "       hidden_layer_sizes=(13, 13, 13), learning_rate='constant',\n",
              "       learning_rate_init=0.001, max_iter=10000, momentum=0.9,\n",
              "       nesterovs_momentum=True, power_t=0.5, random_state=42, shuffle=True,\n",
              "       solver='adam', tol=0.0001, validation_fraction=0.1, verbose=False,\n",
              "       warm_start=False)"
            ]
          },
          "metadata": {
            "tags": []
          }
        }
      ],
      "execution_count": 197,
      "metadata": {
        "id": "ISIY2Mbzn3Oo",
        "colab_type": "code",
        "colab": {
          "autoexec": {
            "startup": false,
            "wait_interval": 0
          },
          "base_uri": "https://localhost:8080/",
          "height": 140
        },
        "outputId": "b1cae561-2f25-42fe-ff4e-4b9e9f9e7abf",
        "executionInfo": {
          "status": "ok",
          "timestamp": 1525773586496,
          "user_tz": -240,
          "elapsed": 804,
          "user": {
            "displayName": "Davit Abgaryan",
            "photoUrl": "//lh3.googleusercontent.com/-bmf3vKKO4Fk/AAAAAAAAAAI/AAAAAAAAAFA/swJvE3elKYQ/s50-c-k-no/photo.jpg",
            "userId": "117210301999788128868"
          }
        }
      }
    },
    {
      "cell_type": "code",
      "source": [
        "# NOTE\n",
        "# simple recall is not available for multicall\n",
        "# thus, we put \"average=None\" to make sure recall is calculated\n",
        "# using \"one class versus rest\" approach\n",
        "prediction = mlp.predict(x_test)\n",
        "print(recall_score(y_test,prediction,average=None)*100)"
      ],
      "outputs": [
        {
          "output_type": "stream",
          "name": "stdout",
          "text": [
            "[ 95. 100. 100.]\n"
          ]
        }
      ],
      "execution_count": 198,
      "metadata": {
        "id": "W96XeC_JoHgY",
        "colab_type": "code",
        "colab": {
          "autoexec": {
            "startup": false,
            "wait_interval": 0
          },
          "base_uri": "https://localhost:8080/",
          "height": 35
        },
        "outputId": "4c6cd4bb-09cb-4978-a266-beba5198d830",
        "executionInfo": {
          "status": "ok",
          "timestamp": 1525773589029,
          "user_tz": -240,
          "elapsed": 1138,
          "user": {
            "displayName": "Davit Abgaryan",
            "photoUrl": "//lh3.googleusercontent.com/-bmf3vKKO4Fk/AAAAAAAAAAI/AAAAAAAAAFA/swJvE3elKYQ/s50-c-k-no/photo.jpg",
            "userId": "117210301999788128868"
          }
        }
      }
    },
    {
      "cell_type": "code",
      "source": [
        "from sklearn.metrics import classification_report,confusion_matrix\n",
        "print(confusion_matrix(y_test,prediction))"
      ],
      "outputs": [
        {
          "output_type": "stream",
          "name": "stdout",
          "text": [
            "[[19  1  0]\n",
            " [ 0 13  0]\n",
            " [ 0  0 12]]\n"
          ]
        }
      ],
      "execution_count": 199,
      "metadata": {
        "id": "-wg9_dRA4Ubm",
        "colab_type": "code",
        "colab": {
          "autoexec": {
            "startup": false,
            "wait_interval": 0
          },
          "base_uri": "https://localhost:8080/",
          "height": 70
        },
        "outputId": "7a275c73-b09f-414c-98cd-3f9fe119d36e",
        "executionInfo": {
          "status": "ok",
          "timestamp": 1525773599331,
          "user_tz": -240,
          "elapsed": 670,
          "user": {
            "displayName": "Davit Abgaryan",
            "photoUrl": "//lh3.googleusercontent.com/-bmf3vKKO4Fk/AAAAAAAAAAI/AAAAAAAAAFA/swJvE3elKYQ/s50-c-k-no/photo.jpg",
            "userId": "117210301999788128868"
          }
        }
      }
    },
    {
      "cell_type": "code",
      "source": [
        "mlp.out_activation_"
      ],
      "outputs": [
        {
          "output_type": "execute_result",
          "execution_count": 106,
          "data": {
            "text/plain": [
              "'softmax'"
            ]
          },
          "metadata": {
            "tags": []
          }
        }
      ],
      "execution_count": 106,
      "metadata": {
        "id": "D6Bv_EG-luFZ",
        "colab_type": "code",
        "colab": {
          "autoexec": {
            "startup": false,
            "wait_interval": 0
          },
          "base_uri": "https://localhost:8080/",
          "height": 35
        },
        "outputId": "4a1491b5-ff8a-4438-82a7-a164f98df093",
        "executionInfo": {
          "status": "ok",
          "timestamp": 1525763495255,
          "user_tz": -240,
          "elapsed": 646,
          "user": {
            "displayName": "Davit Abgaryan",
            "photoUrl": "//lh3.googleusercontent.com/-bmf3vKKO4Fk/AAAAAAAAAAI/AAAAAAAAAFA/swJvE3elKYQ/s50-c-k-no/photo.jpg",
            "userId": "117210301999788128868"
          }
        }
      }
    },
    {
      "cell_type": "code",
      "source": [
        "len(mlp.coefs_)"
      ],
      "outputs": [
        {
          "output_type": "execute_result",
          "execution_count": 95,
          "data": {
            "text/plain": [
              "4"
            ]
          },
          "metadata": {
            "tags": []
          }
        }
      ],
      "execution_count": 95,
      "metadata": {
        "id": "4-ArlQzqonr7",
        "colab_type": "code",
        "colab": {
          "autoexec": {
            "startup": false,
            "wait_interval": 0
          },
          "base_uri": "https://localhost:8080/",
          "height": 35
        },
        "outputId": "56fa6c28-8f6e-4fb8-a6b5-e28ea617d72f",
        "executionInfo": {
          "status": "ok",
          "timestamp": 1525762976507,
          "user_tz": -240,
          "elapsed": 635,
          "user": {
            "displayName": "Davit Abgaryan",
            "photoUrl": "//lh3.googleusercontent.com/-bmf3vKKO4Fk/AAAAAAAAAAI/AAAAAAAAAFA/swJvE3elKYQ/s50-c-k-no/photo.jpg",
            "userId": "117210301999788128868"
          }
        }
      }
    },
    {
      "cell_type": "code",
      "source": [
        "len(mlp.coefs_[0])"
      ],
      "outputs": [
        {
          "output_type": "execute_result",
          "execution_count": 96,
          "data": {
            "text/plain": [
              "13"
            ]
          },
          "metadata": {
            "tags": []
          }
        }
      ],
      "execution_count": 96,
      "metadata": {
        "id": "apWacqZYpJI-",
        "colab_type": "code",
        "colab": {
          "autoexec": {
            "startup": false,
            "wait_interval": 0
          },
          "base_uri": "https://localhost:8080/",
          "height": 35
        },
        "outputId": "8fc8821f-b9af-4679-fefe-38ec7607c5a7",
        "executionInfo": {
          "status": "ok",
          "timestamp": 1525762981336,
          "user_tz": -240,
          "elapsed": 644,
          "user": {
            "displayName": "Davit Abgaryan",
            "photoUrl": "//lh3.googleusercontent.com/-bmf3vKKO4Fk/AAAAAAAAAAI/AAAAAAAAAFA/swJvE3elKYQ/s50-c-k-no/photo.jpg",
            "userId": "117210301999788128868"
          }
        }
      }
    },
    {
      "cell_type": "code",
      "source": [
        "len(mlp.intercepts_[0])"
      ],
      "outputs": [
        {
          "output_type": "execute_result",
          "execution_count": 97,
          "data": {
            "text/plain": [
              "13"
            ]
          },
          "metadata": {
            "tags": []
          }
        }
      ],
      "execution_count": 97,
      "metadata": {
        "id": "wx3fmWjwpLsJ",
        "colab_type": "code",
        "colab": {
          "autoexec": {
            "startup": false,
            "wait_interval": 0
          },
          "base_uri": "https://localhost:8080/",
          "height": 35
        },
        "outputId": "0a0801a0-aa50-46ae-8ee3-81b439ca9622",
        "executionInfo": {
          "status": "ok",
          "timestamp": 1525762982105,
          "user_tz": -240,
          "elapsed": 624,
          "user": {
            "displayName": "Davit Abgaryan",
            "photoUrl": "//lh3.googleusercontent.com/-bmf3vKKO4Fk/AAAAAAAAAAI/AAAAAAAAAFA/swJvE3elKYQ/s50-c-k-no/photo.jpg",
            "userId": "117210301999788128868"
          }
        }
      }
    },
    {
      "cell_type": "code",
      "source": [
        "mlp.coefs_[3]"
      ],
      "outputs": [
        {
          "output_type": "execute_result",
          "execution_count": 142,
          "data": {
            "text/plain": [
              "array([[-0.47329334,  0.21013339,  0.02487175],\n",
              "       [ 0.34525742,  0.03632828,  0.40796247],\n",
              "       [ 0.09043608,  0.11414918,  0.39492539],\n",
              "       [-0.11820886, -0.44823796, -0.57712099],\n",
              "       [ 0.34235137,  0.17660703,  0.19081378],\n",
              "       [-0.34017809, -0.43782227, -0.61345638],\n",
              "       [-0.15026282,  0.13839198, -0.1929686 ],\n",
              "       [-0.07454532,  0.49176486, -0.18465387],\n",
              "       [ 0.02496964,  0.34493488, -0.13207709],\n",
              "       [ 0.1548696 ,  0.45186978,  0.53713683],\n",
              "       [-0.43224493,  0.52246099, -0.00965553],\n",
              "       [-0.28828971, -0.04120963,  0.57127956],\n",
              "       [ 0.04683395, -0.1443193 ,  0.04209082]])"
            ]
          },
          "metadata": {
            "tags": []
          }
        }
      ],
      "execution_count": 142,
      "metadata": {
        "id": "IvAhvALy3ktT",
        "colab_type": "code",
        "colab": {
          "autoexec": {
            "startup": false,
            "wait_interval": 0
          },
          "base_uri": "https://localhost:8080/",
          "height": 246
        },
        "outputId": "9c98b229-9d2f-4892-edb4-9b5f0939f43d",
        "executionInfo": {
          "status": "ok",
          "timestamp": 1525768249910,
          "user_tz": -240,
          "elapsed": 669,
          "user": {
            "displayName": "Davit Abgaryan",
            "photoUrl": "//lh3.googleusercontent.com/-bmf3vKKO4Fk/AAAAAAAAAAI/AAAAAAAAAFA/swJvE3elKYQ/s50-c-k-no/photo.jpg",
            "userId": "117210301999788128868"
          }
        }
      }
    },
    {
      "cell_type": "markdown",
      "source": [
        "### Decision Tree"
      ],
      "metadata": {
        "id": "bGoC3d2Oedlt",
        "colab_type": "text"
      }
    },
    {
      "cell_type": "code",
      "source": [
        "model_tree = DecisionTreeClassifier(random_state=42)\n",
        "model_tree.fit(x_train,y_train)\n",
        "print(model_tree.score(x_train,y_train)*100)\n",
        "print(model_tree.score(x_test,y_test)*100)\n",
        "prediction = model_tree.predict(x_test)\n",
        "print (recall_score(y_test,prediction,average=None)*100)"
      ],
      "outputs": [
        {
          "output_type": "stream",
          "name": "stdout",
          "text": [
            "100.0\n",
            "88.88888888888889\n",
            "[ 80.          92.30769231 100.        ]\n"
          ]
        }
      ],
      "execution_count": 194,
      "metadata": {
        "id": "9p_mh_npct7W",
        "colab_type": "code",
        "colab": {
          "autoexec": {
            "startup": false,
            "wait_interval": 0
          },
          "base_uri": "https://localhost:8080/",
          "height": 70
        },
        "outputId": "1de51a47-ffe5-43fa-9596-36b1e09f81fd",
        "executionInfo": {
          "status": "ok",
          "timestamp": 1525773481588,
          "user_tz": -240,
          "elapsed": 654,
          "user": {
            "displayName": "Davit Abgaryan",
            "photoUrl": "//lh3.googleusercontent.com/-bmf3vKKO4Fk/AAAAAAAAAAI/AAAAAAAAAFA/swJvE3elKYQ/s50-c-k-no/photo.jpg",
            "userId": "117210301999788128868"
          }
        }
      }
    },
    {
      "cell_type": "markdown",
      "source": [
        "### Random Forest"
      ],
      "metadata": {
        "id": "bcm4aj6uLiGg",
        "colab_type": "text"
      }
    },
    {
      "cell_type": "code",
      "source": [
        "model_rf = RandomForestClassifier(random_state=42)\n",
        "model_rf.fit(x_train,y_train)\n",
        "print(model_rf.score(x_train,y_train)*100)\n",
        "print(model_rf.score(x_test,y_test)*100)\n",
        "\n",
        "# calculating recall and roc_auc scores\n",
        "prediction = model_rf.predict(x_test)\n",
        "print (recall_score(y_test,prediction,average=None)*100)"
      ],
      "outputs": [
        {
          "output_type": "stream",
          "name": "stdout",
          "text": [
            "100.0\n",
            "93.33333333333333\n",
            "[100.          92.30769231  83.33333333]\n"
          ]
        }
      ],
      "execution_count": 201,
      "metadata": {
        "id": "nXxUFsUHLk8T",
        "colab_type": "code",
        "colab": {
          "autoexec": {
            "startup": false,
            "wait_interval": 0
          },
          "base_uri": "https://localhost:8080/",
          "height": 70
        },
        "outputId": "b3cd89b4-3962-4430-b1ea-197efb477eaa",
        "executionInfo": {
          "status": "ok",
          "timestamp": 1525773883693,
          "user_tz": -240,
          "elapsed": 896,
          "user": {
            "displayName": "Davit Abgaryan",
            "photoUrl": "//lh3.googleusercontent.com/-bmf3vKKO4Fk/AAAAAAAAAAI/AAAAAAAAAFA/swJvE3elKYQ/s50-c-k-no/photo.jpg",
            "userId": "117210301999788128868"
          }
        }
      }
    },
    {
      "cell_type": "markdown",
      "source": [
        "### Gradient Boosting\n"
      ],
      "metadata": {
        "id": "WLXY43q2Lchg",
        "colab_type": "text"
      }
    },
    {
      "cell_type": "code",
      "source": [
        "model_gb = GradientBoostingClassifier(random_state=42)\n",
        "model_gb.fit(x_train,y_train)\n",
        "\n",
        "print(model_rf.score(x_train,y_train)*100)\n",
        "print(model_rf.score(x_test,y_test)*100)\n",
        "\n",
        "prediction = model_gb.predict(x_test)\n",
        "print(recall_score(y_test,prediction,average=None)*100)"
      ],
      "outputs": [
        {
          "output_type": "stream",
          "name": "stdout",
          "text": [
            "100.0\n",
            "93.33333333333333\n",
            "[ 90.          92.30769231 100.        ]\n"
          ]
        }
      ],
      "execution_count": 202,
      "metadata": {
        "id": "qvvHyyOgehIc",
        "colab_type": "code",
        "colab": {
          "autoexec": {
            "startup": false,
            "wait_interval": 0
          },
          "base_uri": "https://localhost:8080/",
          "height": 70
        },
        "outputId": "3cebfaf2-205e-4bb1-d9be-e2b0fd020113",
        "executionInfo": {
          "status": "ok",
          "timestamp": 1525773915200,
          "user_tz": -240,
          "elapsed": 663,
          "user": {
            "displayName": "Davit Abgaryan",
            "photoUrl": "//lh3.googleusercontent.com/-bmf3vKKO4Fk/AAAAAAAAAAI/AAAAAAAAAFA/swJvE3elKYQ/s50-c-k-no/photo.jpg",
            "userId": "117210301999788128868"
          }
        }
      }
    },
    {
      "cell_type": "code",
      "source": [
        "from sklearn.metrics import classification_report,confusion_matrix\n",
        "print(confusion_matrix(y_test,prediction))"
      ],
      "outputs": [
        {
          "output_type": "stream",
          "name": "stdout",
          "text": [
            "[[18  2  0]\n",
            " [ 0 12  1]\n",
            " [ 0  0 12]]\n"
          ]
        }
      ],
      "execution_count": 203,
      "metadata": {
        "id": "tdHDh0Hgnzsu",
        "colab_type": "code",
        "colab": {
          "autoexec": {
            "startup": false,
            "wait_interval": 0
          },
          "base_uri": "https://localhost:8080/",
          "height": 70
        },
        "outputId": "066076e4-f955-4c44-fe1b-4957ec51d7ed",
        "executionInfo": {
          "status": "ok",
          "timestamp": 1525773919165,
          "user_tz": -240,
          "elapsed": 1017,
          "user": {
            "displayName": "Davit Abgaryan",
            "photoUrl": "//lh3.googleusercontent.com/-bmf3vKKO4Fk/AAAAAAAAAAI/AAAAAAAAAFA/swJvE3elKYQ/s50-c-k-no/photo.jpg",
            "userId": "117210301999788128868"
          }
        }
      }
    },
    {
      "cell_type": "code",
      "source": [],
      "outputs": [],
      "execution_count": 0,
      "metadata": {
        "id": "iAp1xvOD4h_9",
        "colab_type": "code",
        "colab": {
          "autoexec": {
            "startup": false,
            "wait_interval": 0
          }
        }
      }
    }
  ],
  "metadata": {
    "colab": {
      "name": "Neural_Networks.ipynb",
      "version": "0.3.2",
      "views": {},
      "default_view": {},
      "provenance": []
    },
    "kernelspec": {
      "name": "python3",
      "display_name": "Python 3"
    },
    "nteract": {
      "version": "0.8.4"
    }
  },
  "nbformat": 4,
  "nbformat_minor": 0
}