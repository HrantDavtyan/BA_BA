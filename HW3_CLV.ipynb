{
  "nbformat": 4,
  "nbformat_minor": 0,
  "metadata": {
    "colab": {
      "name": "HW3_CLV",
      "version": "0.3.2",
      "views": {},
      "default_view": {},
      "provenance": [],
      "collapsed_sections": []
    },
    "kernelspec": {
      "name": "python3",
      "display_name": "Python 3"
    }
  },
  "cells": [
    {
      "metadata": {
        "id": "d80UylCM4i_P",
        "colab_type": "text"
      },
      "cell_type": "markdown",
      "source": [
        "# Homework 3 - CLV\n",
        "\n",
        "### Steps\n",
        "\n",
        "1. Load packages and data\n",
        "2. Separate numeric and object vars\n",
        "3. Drop var=0 numeric and unique value=1 object vars\n",
        "4. For numerics:\n",
        "  - Plot corr between two features >= 0.75\n",
        "  - Detect outliers (print number)\n",
        "  - Normalize with Max()\n",
        "5. For objects:\n",
        "  - separate unique values = 2 and > 2\n",
        "  - for = 2 encode into categories and join to numeric\n",
        "  - for > 3 observe to get dummies, encode categories or transform\n",
        "  - for datetime object, get Min() date, normalize rest as Days wrt Min()\n",
        "  - scale the data with Max()\n",
        "6. Set up models with a bit different than default params (yet not fully tuned)\n",
        "7. Fit all 4 model, predict both for train and test (both for scaled and unscaled)\n",
        "8. Calculate MSE, RMSE and R^2 for all model (train and test, scaled unscaled)\n",
        "9. Winner: as for now, RF (or GB, if a bit of overfitting neglected)\n",
        "10. Next (for potentially better accuracy):\n",
        "  - Drop outliers\n",
        "  - Tune hyperparameters (clearly models overfit)\n",
        "  - Test results with CV\n",
        "  - Continue feature engineering (merge more values, transform data etc.)\n",
        "  - Get important features (coef attribute) in linear regression and eliminate one at a time (linear model will be improved)"
      ]
    },
    {
      "metadata": {
        "id": "oC_VHZxU4gGH",
        "colab_type": "code",
        "colab": {
          "autoexec": {
            "startup": false,
            "wait_interval": 0
          }
        }
      },
      "cell_type": "code",
      "source": [
        "# importing libraries\n",
        "import pandas as pd\n",
        "import numpy as np\n",
        "import matplotlib.pyplot as plt\n",
        "import seaborn as sns\n",
        "\n",
        "from sklearn.tree import DecisionTreeRegressor\n",
        "from sklearn.linear_model import LinearRegression\n",
        "from sklearn.ensemble import RandomForestRegressor, GradientBoostingRegressor\n",
        "from sklearn.model_selection import train_test_split, GridSearchCV, cross_val_score\n",
        "from sklearn.metrics import mean_squared_error, mean_absolute_error\n",
        "from sklearn.preprocessing import LabelEncoder, OneHotEncoder\n",
        "\n",
        "# to avoid calling plt.show() everytime\n",
        "%matplotlib inline"
      ],
      "execution_count": 0,
      "outputs": []
    },
    {
      "metadata": {
        "id": "dbSo88A348B1",
        "colab_type": "code",
        "colab": {
          "autoexec": {
            "startup": false,
            "wait_interval": 0
          }
        }
      },
      "cell_type": "code",
      "source": [
        "#reading data from GitHub repo\n",
        "raw_data = pd.read_csv(\"https://github.com/HrantDavtyan/Business_Analytics/blob/master/CLV.csv?raw=true\")"
      ],
      "execution_count": 0,
      "outputs": []
    },
    {
      "metadata": {
        "id": "oOYBiEjA5Abv",
        "colab_type": "code",
        "colab": {
          "autoexec": {
            "startup": false,
            "wait_interval": 0
          },
          "base_uri": "https://localhost:8080/",
          "height": 797
        },
        "outputId": "b3c0b511-85dc-4ec9-db61-59fc154013ba",
        "executionInfo": {
          "status": "ok",
          "timestamp": 1523503814891,
          "user_tz": -240,
          "elapsed": 743,
          "user": {
            "displayName": "Hrant Davtyan",
            "photoUrl": "//lh6.googleusercontent.com/-T6WrkViEJRM/AAAAAAAAAAI/AAAAAAAAAAo/2U9xPrZ3IJI/s50-c-k-no/photo.jpg",
            "userId": "103878521968556709044"
          }
        }
      },
      "cell_type": "code",
      "source": [
        "# print info and present first 3 rows\n",
        "print(raw_data.info())\n",
        "raw_data.head(3)"
      ],
      "execution_count": 4,
      "outputs": [
        {
          "output_type": "stream",
          "text": [
            "<class 'pandas.core.frame.DataFrame'>\n",
            "RangeIndex: 9134 entries, 0 to 9133\n",
            "Data columns (total 24 columns):\n",
            "Customer                         9134 non-null object\n",
            "State                            9134 non-null object\n",
            "Customer Lifetime Value          9134 non-null float64\n",
            "Response                         9134 non-null object\n",
            "Coverage                         9134 non-null object\n",
            "Education                        9134 non-null object\n",
            "Effective To Date                9134 non-null object\n",
            "EmploymentStatus                 9134 non-null object\n",
            "Gender                           9134 non-null object\n",
            "Income                           9134 non-null int64\n",
            "Location Code                    9134 non-null object\n",
            "Marital Status                   9134 non-null object\n",
            "Monthly Premium Auto             9134 non-null int64\n",
            "Months Since Last Claim          9134 non-null int64\n",
            "Months Since Policy Inception    9134 non-null int64\n",
            "Number of Open Complaints        9134 non-null int64\n",
            "Number of Policies               9134 non-null int64\n",
            "Policy Type                      9134 non-null object\n",
            "Policy                           9134 non-null object\n",
            "Renew Offer Type                 9134 non-null object\n",
            "Sales Channel                    9134 non-null object\n",
            "Total Claim Amount               9134 non-null float64\n",
            "Vehicle Class                    9134 non-null object\n",
            "Vehicle Size                     9134 non-null object\n",
            "dtypes: float64(2), int64(6), object(16)\n",
            "memory usage: 1.7+ MB\n",
            "None\n"
          ],
          "name": "stdout"
        },
        {
          "output_type": "execute_result",
          "data": {
            "text/html": [
              "<div>\n",
              "<style scoped>\n",
              "    .dataframe tbody tr th:only-of-type {\n",
              "        vertical-align: middle;\n",
              "    }\n",
              "\n",
              "    .dataframe tbody tr th {\n",
              "        vertical-align: top;\n",
              "    }\n",
              "\n",
              "    .dataframe thead th {\n",
              "        text-align: right;\n",
              "    }\n",
              "</style>\n",
              "<table border=\"1\" class=\"dataframe\">\n",
              "  <thead>\n",
              "    <tr style=\"text-align: right;\">\n",
              "      <th></th>\n",
              "      <th>Customer</th>\n",
              "      <th>State</th>\n",
              "      <th>Customer Lifetime Value</th>\n",
              "      <th>Response</th>\n",
              "      <th>Coverage</th>\n",
              "      <th>Education</th>\n",
              "      <th>Effective To Date</th>\n",
              "      <th>EmploymentStatus</th>\n",
              "      <th>Gender</th>\n",
              "      <th>Income</th>\n",
              "      <th>...</th>\n",
              "      <th>Months Since Policy Inception</th>\n",
              "      <th>Number of Open Complaints</th>\n",
              "      <th>Number of Policies</th>\n",
              "      <th>Policy Type</th>\n",
              "      <th>Policy</th>\n",
              "      <th>Renew Offer Type</th>\n",
              "      <th>Sales Channel</th>\n",
              "      <th>Total Claim Amount</th>\n",
              "      <th>Vehicle Class</th>\n",
              "      <th>Vehicle Size</th>\n",
              "    </tr>\n",
              "  </thead>\n",
              "  <tbody>\n",
              "    <tr>\n",
              "      <th>0</th>\n",
              "      <td>BU79786</td>\n",
              "      <td>Washington</td>\n",
              "      <td>2763.519279</td>\n",
              "      <td>No</td>\n",
              "      <td>Basic</td>\n",
              "      <td>Bachelor</td>\n",
              "      <td>2/24/11</td>\n",
              "      <td>Employed</td>\n",
              "      <td>F</td>\n",
              "      <td>56274</td>\n",
              "      <td>...</td>\n",
              "      <td>5</td>\n",
              "      <td>0</td>\n",
              "      <td>1</td>\n",
              "      <td>Corporate Auto</td>\n",
              "      <td>Corporate L3</td>\n",
              "      <td>Offer1</td>\n",
              "      <td>Agent</td>\n",
              "      <td>384.811147</td>\n",
              "      <td>Two-Door Car</td>\n",
              "      <td>Medsize</td>\n",
              "    </tr>\n",
              "    <tr>\n",
              "      <th>1</th>\n",
              "      <td>QZ44356</td>\n",
              "      <td>Arizona</td>\n",
              "      <td>6979.535903</td>\n",
              "      <td>No</td>\n",
              "      <td>Extended</td>\n",
              "      <td>Bachelor</td>\n",
              "      <td>1/31/11</td>\n",
              "      <td>Unemployed</td>\n",
              "      <td>F</td>\n",
              "      <td>0</td>\n",
              "      <td>...</td>\n",
              "      <td>42</td>\n",
              "      <td>0</td>\n",
              "      <td>8</td>\n",
              "      <td>Personal Auto</td>\n",
              "      <td>Personal L3</td>\n",
              "      <td>Offer3</td>\n",
              "      <td>Agent</td>\n",
              "      <td>1131.464935</td>\n",
              "      <td>Four-Door Car</td>\n",
              "      <td>Medsize</td>\n",
              "    </tr>\n",
              "    <tr>\n",
              "      <th>2</th>\n",
              "      <td>AI49188</td>\n",
              "      <td>Nevada</td>\n",
              "      <td>12887.431650</td>\n",
              "      <td>No</td>\n",
              "      <td>Premium</td>\n",
              "      <td>Bachelor</td>\n",
              "      <td>2/19/11</td>\n",
              "      <td>Employed</td>\n",
              "      <td>F</td>\n",
              "      <td>48767</td>\n",
              "      <td>...</td>\n",
              "      <td>38</td>\n",
              "      <td>0</td>\n",
              "      <td>2</td>\n",
              "      <td>Personal Auto</td>\n",
              "      <td>Personal L3</td>\n",
              "      <td>Offer1</td>\n",
              "      <td>Agent</td>\n",
              "      <td>566.472247</td>\n",
              "      <td>Two-Door Car</td>\n",
              "      <td>Medsize</td>\n",
              "    </tr>\n",
              "  </tbody>\n",
              "</table>\n",
              "<p>3 rows × 24 columns</p>\n",
              "</div>"
            ],
            "text/plain": [
              "  Customer       State  Customer Lifetime Value Response  Coverage Education  \\\n",
              "0  BU79786  Washington              2763.519279       No     Basic  Bachelor   \n",
              "1  QZ44356     Arizona              6979.535903       No  Extended  Bachelor   \n",
              "2  AI49188      Nevada             12887.431650       No   Premium  Bachelor   \n",
              "\n",
              "  Effective To Date EmploymentStatus Gender  Income     ...       \\\n",
              "0           2/24/11         Employed      F   56274     ...        \n",
              "1           1/31/11       Unemployed      F       0     ...        \n",
              "2           2/19/11         Employed      F   48767     ...        \n",
              "\n",
              "  Months Since Policy Inception Number of Open Complaints  Number of Policies  \\\n",
              "0                             5                         0                   1   \n",
              "1                            42                         0                   8   \n",
              "2                            38                         0                   2   \n",
              "\n",
              "      Policy Type        Policy  Renew Offer Type  Sales Channel  \\\n",
              "0  Corporate Auto  Corporate L3            Offer1          Agent   \n",
              "1   Personal Auto   Personal L3            Offer3          Agent   \n",
              "2   Personal Auto   Personal L3            Offer1          Agent   \n",
              "\n",
              "  Total Claim Amount  Vehicle Class Vehicle Size  \n",
              "0         384.811147   Two-Door Car      Medsize  \n",
              "1        1131.464935  Four-Door Car      Medsize  \n",
              "2         566.472247   Two-Door Car      Medsize  \n",
              "\n",
              "[3 rows x 24 columns]"
            ]
          },
          "metadata": {
            "tags": []
          },
          "execution_count": 4
        }
      ]
    },
    {
      "metadata": {
        "id": "x-QpXxb85Mkx",
        "colab_type": "text"
      },
      "cell_type": "markdown",
      "source": [
        "### Separating numerics and objects"
      ]
    },
    {
      "metadata": {
        "id": "W_JlfGvc5CDG",
        "colab_type": "code",
        "colab": {
          "autoexec": {
            "startup": false,
            "wait_interval": 0
          },
          "base_uri": "https://localhost:8080/",
          "height": 153
        },
        "outputId": "6c55feef-85ae-4896-f52c-b8a8f369ab3d",
        "executionInfo": {
          "status": "ok",
          "timestamp": 1523503819413,
          "user_tz": -240,
          "elapsed": 729,
          "user": {
            "displayName": "Hrant Davtyan",
            "photoUrl": "//lh6.googleusercontent.com/-T6WrkViEJRM/AAAAAAAAAAI/AAAAAAAAAAo/2U9xPrZ3IJI/s50-c-k-no/photo.jpg",
            "userId": "103878521968556709044"
          }
        }
      },
      "cell_type": "code",
      "source": [
        "#separate numeric and object variables\n",
        "data_numeric = raw_data.select_dtypes(exclude=\"object\")\n",
        "data_object = raw_data.select_dtypes(include=\"object\")\n",
        "\n",
        "#choose numeric vars with non-zero variance\n",
        "print(\"Numeric\")\n",
        "print(\"Before: \",len(data_numeric.columns))\n",
        "data_numeric = data_numeric.loc[:,data_numeric.var()!=0]\n",
        "print(\"After: \",len(data_numeric.columns))\n",
        "\n",
        "print(\"\\n\") #break line in output\n",
        "\n",
        "#choose object vars with more than 1 unique value\n",
        "print(\"Objects\")\n",
        "print(\"Before: \",len(data_object.columns))\n",
        "data_object = data_object.loc[:,[len(data_object[i].unique())>1 for i in data_object.columns]]\n",
        "print(\"After: \",len(data_object.columns))\n",
        "\n",
        "#choose object vars with only 2 values, encode and join back to numerics\n",
        "data_encode = data_object.loc[:,[len(data_object[i].unique())==2 for i in data_object.columns]]\n",
        "data_encode = data_encode.apply(LabelEncoder().fit_transform)\n",
        "data_numeric = data_numeric.join(data_encode)\n",
        "\n",
        "#choose object vars with more than 2 values and observe\n",
        "data_dummy = data_object.loc[:,[len(data_object[i].unique())>2 for i in data_object.columns]]"
      ],
      "execution_count": 5,
      "outputs": [
        {
          "output_type": "stream",
          "text": [
            "Numeric\n",
            "Before:  8\n",
            "After:  8\n",
            "\n",
            "\n",
            "Objects\n",
            "Before:  16\n",
            "After:  16\n"
          ],
          "name": "stdout"
        }
      ]
    },
    {
      "metadata": {
        "id": "v_SO7vFh5PjG",
        "colab_type": "code",
        "colab": {
          "autoexec": {
            "startup": false,
            "wait_interval": 0
          },
          "base_uri": "https://localhost:8080/",
          "height": 410
        },
        "outputId": "64eefebd-e002-4ea2-a3dc-dc1a14d5e94c",
        "executionInfo": {
          "status": "ok",
          "timestamp": 1523503822357,
          "user_tz": -240,
          "elapsed": 1183,
          "user": {
            "displayName": "Hrant Davtyan",
            "photoUrl": "//lh6.googleusercontent.com/-T6WrkViEJRM/AAAAAAAAAAI/AAAAAAAAAAo/2U9xPrZ3IJI/s50-c-k-no/photo.jpg",
            "userId": "103878521968556709044"
          }
        }
      },
      "cell_type": "code",
      "source": [
        "#no change happened\n",
        "#plot correlation heatmap to see any correlations above or equal to 75% in absolute values\n",
        "#we will see that no group of vars satisfy the condition, i.e. no high correlation\n",
        "sns.heatmap(data_numeric.corr().abs()>=0.75)"
      ],
      "execution_count": 6,
      "outputs": [
        {
          "output_type": "execute_result",
          "data": {
            "text/plain": [
              "<matplotlib.axes._subplots.AxesSubplot at 0x7f88b8918d30>"
            ]
          },
          "metadata": {
            "tags": []
          },
          "execution_count": 6
        },
        {
          "output_type": "display_data",
          "data": {
            "image/png": "[encoded data removed]",
            "text/plain": [
              "<matplotlib.figure.Figure at 0x7f88b898c080>"
            ]
          },
          "metadata": {
            "tags": []
          }
        }
      ]
    },
    {
      "metadata": {
        "id": "VhB8Va2SRXso",
        "colab_type": "text"
      },
      "cell_type": "markdown",
      "source": [
        "### Outliers and Normalization"
      ]
    },
    {
      "metadata": {
        "id": "cX70vKXjTBLT",
        "colab_type": "code",
        "colab": {
          "autoexec": {
            "startup": false,
            "wait_interval": 0
          },
          "base_uri": "https://localhost:8080/",
          "height": 2647
        },
        "outputId": "0cb3e61c-03f7-4a55-8ec0-784be8d6ce2d",
        "executionInfo": {
          "status": "ok",
          "timestamp": 1523503827470,
          "user_tz": -240,
          "elapsed": 1897,
          "user": {
            "displayName": "Hrant Davtyan",
            "photoUrl": "//lh6.googleusercontent.com/-T6WrkViEJRM/AAAAAAAAAAI/AAAAAAAAAAo/2U9xPrZ3IJI/s50-c-k-no/photo.jpg",
            "userId": "103878521968556709044"
          }
        }
      },
      "cell_type": "code",
      "source": [
        "#observe outliers first visually then using iQR\n",
        "for i in data_numeric.columns:\n",
        "  plt.boxplot(data_numeric[i])\n",
        "  plt.title(i)\n",
        "  plt.show()"
      ],
      "execution_count": 7,
      "outputs": [
        {
          "output_type": "display_data",
          "data": {
            "image/png": "[encoded data removed]",
            "text/plain": [
              "<matplotlib.figure.Figure at 0x7f88b8919978>"
            ]
          },
          "metadata": {
            "tags": []
          }
        },
        {
          "output_type": "display_data",
          "data": {
            "image/png": "[encoded data removed]",
            "text/plain": [
              "<matplotlib.figure.Figure at 0x7f88b67a4780>"
            ]
          },
          "metadata": {
            "tags": []
          }
        },
        {
          "output_type": "display_data",
          "data": {
            "image/png": "[encoded data removed]",
            "text/plain": [
              "<matplotlib.figure.Figure at 0x7f88b66d2ef0>"
            ]
          },
          "metadata": {
            "tags": []
          }
        },
        {
          "output_type": "display_data",
          "data": {
            "image/png": "[encoded data removed]",
            "text/plain": [
              "<matplotlib.figure.Figure at 0x7f88b66b3f98>"
            ]
          },
          "metadata": {
            "tags": []
          }
        },
        {
          "output_type": "display_data",
          "data": {
            "image/png": "[encoded data removed]",
            "text/plain": [
              "<matplotlib.figure.Figure at 0x7f88b6615d30>"
            ]
          },
          "metadata": {
            "tags": []
          }
        },
        {
          "output_type": "display_data",
          "data": {
            "image/png": "[encoded data removed]",
            "text/plain": [
              "<matplotlib.figure.Figure at 0x7f88b663a278>"
            ]
          },
          "metadata": {
            "tags": []
          }
        },
        {
          "output_type": "display_data",
          "data": {
            "image/png": "[encoded data removed]",
            "text/plain": [
              "<matplotlib.figure.Figure at 0x7f88b6615860>"
            ]
          },
          "metadata": {
            "tags": []
          }
        },
        {
          "output_type": "display_data",
          "data": {
            "image/png": "[encoded data removed]",
            "text/plain": [
              "<matplotlib.figure.Figure at 0x7f88b66b3048>"
            ]
          },
          "metadata": {
            "tags": []
          }
        },
        {
          "output_type": "display_data",
          "data": {
            "image/png": "[encoded data removed]",
            "text/plain": [
              "<matplotlib.figure.Figure at 0x7f88b6747898>"
            ]
          },
          "metadata": {
            "tags": []
          }
        },
        {
          "output_type": "display_data",
          "data": {
            "image/png": "[encoded data removed]",
            "text/plain": [
              "<matplotlib.figure.Figure at 0x7f88b66f9f98>"
            ]
          },
          "metadata": {
            "tags": []
          }
        }
      ]
    },
    {
      "metadata": {
        "id": "zOQfpE_ERcMW",
        "colab_type": "code",
        "colab": {
          "autoexec": {
            "startup": false,
            "wait_interval": 0
          },
          "base_uri": "https://localhost:8080/",
          "height": 187
        },
        "outputId": "a76c3912-608e-4249-929c-b59cce3df72a",
        "executionInfo": {
          "status": "ok",
          "timestamp": 1523504038817,
          "user_tz": -240,
          "elapsed": 629,
          "user": {
            "displayName": "Hrant Davtyan",
            "photoUrl": "//lh6.googleusercontent.com/-T6WrkViEJRM/AAAAAAAAAAI/AAAAAAAAAAo/2U9xPrZ3IJI/s50-c-k-no/photo.jpg",
            "userId": "103878521968556709044"
          }
        }
      },
      "cell_type": "code",
      "source": [
        "#create function for IQR with 2 arguments: varaible and coef (default=1.5)\n",
        "\n",
        "def IQR(variable,coef=1.5):\n",
        "  Q3 = np.percentile(variable,75)\n",
        "  Q2 = np.percentile(variable,50)\n",
        "  Q1 = np.percentile(variable,25)\n",
        "  IQR = Q3 - Q1\n",
        "  lower = Q1 - coef*IQR\n",
        "  upper = Q3 + coef*IQR\n",
        "  return [lower, upper]\n",
        "\n",
        "#use that function to calculate number of outliers in each var\n",
        "#i.e. length of data after choosing observations out of of the IQR range\n",
        "#for the sake of simplicity, we will not drop them\n",
        "#you are encouraged to drop and observe the effect\n",
        "\n",
        "#note, to be strict towards outliers, coef is set to 3\n",
        "for i in data_numeric.columns:\n",
        "  my_box = IQR(data_numeric[i],3)\n",
        "  out_num = len(data_numeric[i][~data_numeric[i].between(my_box[0],my_box[1])])\n",
        "  print(i,\"has\",out_num,\"outliers\")"
      ],
      "execution_count": 10,
      "outputs": [
        {
          "output_type": "stream",
          "text": [
            "Customer Lifetime Value has 367 outliers\n",
            "Income has 0 outliers\n",
            "Monthly Premium Auto has 86 outliers\n",
            "Months Since Last Claim has 0 outliers\n",
            "Months Since Policy Inception has 0 outliers\n",
            "Number of Open Complaints has 1882 outliers\n",
            "Number of Policies has 0 outliers\n",
            "Total Claim Amount has 115 outliers\n",
            "Response has 1308 outliers\n",
            "Gender has 0 outliers\n"
          ],
          "name": "stdout"
        }
      ]
    },
    {
      "metadata": {
        "id": "jwjIn949SAT7",
        "colab_type": "code",
        "colab": {
          "autoexec": {
            "startup": false,
            "wait_interval": 0
          }
        }
      },
      "cell_type": "code",
      "source": [
        "#create a function to normalize the data\n",
        "def my_scaler(col):\n",
        "  return (col - np.min(col))/np.max(col)\n",
        "\n",
        "#apply that function to each column of the dataframe\n",
        "data_scaled = data_numeric.apply(my_scaler)"
      ],
      "execution_count": 0,
      "outputs": []
    },
    {
      "metadata": {
        "id": "5ShtO_TW7IYm",
        "colab_type": "text"
      },
      "cell_type": "markdown",
      "source": [
        "### Transformations of \"objects\""
      ]
    },
    {
      "metadata": {
        "id": "vc2QMJTe5a-_",
        "colab_type": "code",
        "colab": {
          "autoexec": {
            "startup": false,
            "wait_interval": 0
          },
          "base_uri": "https://localhost:8080/",
          "height": 247
        },
        "outputId": "d8ed5bb4-5292-4019-e1cf-f256e73e719c",
        "executionInfo": {
          "status": "ok",
          "timestamp": 1523504176043,
          "user_tz": -240,
          "elapsed": 660,
          "user": {
            "displayName": "Hrant Davtyan",
            "photoUrl": "//lh6.googleusercontent.com/-T6WrkViEJRM/AAAAAAAAAAI/AAAAAAAAAAo/2U9xPrZ3IJI/s50-c-k-no/photo.jpg",
            "userId": "103878521968556709044"
          }
        }
      },
      "cell_type": "code",
      "source": [
        "data_dummy.head(3)"
      ],
      "execution_count": 12,
      "outputs": [
        {
          "output_type": "execute_result",
          "data": {
            "text/html": [
              "<div>\n",
              "<style scoped>\n",
              "    .dataframe tbody tr th:only-of-type {\n",
              "        vertical-align: middle;\n",
              "    }\n",
              "\n",
              "    .dataframe tbody tr th {\n",
              "        vertical-align: top;\n",
              "    }\n",
              "\n",
              "    .dataframe thead th {\n",
              "        text-align: right;\n",
              "    }\n",
              "</style>\n",
              "<table border=\"1\" class=\"dataframe\">\n",
              "  <thead>\n",
              "    <tr style=\"text-align: right;\">\n",
              "      <th></th>\n",
              "      <th>Customer</th>\n",
              "      <th>State</th>\n",
              "      <th>Coverage</th>\n",
              "      <th>Education</th>\n",
              "      <th>Effective To Date</th>\n",
              "      <th>EmploymentStatus</th>\n",
              "      <th>Location Code</th>\n",
              "      <th>Marital Status</th>\n",
              "      <th>Policy Type</th>\n",
              "      <th>Policy</th>\n",
              "      <th>Renew Offer Type</th>\n",
              "      <th>Sales Channel</th>\n",
              "      <th>Vehicle Class</th>\n",
              "      <th>Vehicle Size</th>\n",
              "    </tr>\n",
              "  </thead>\n",
              "  <tbody>\n",
              "    <tr>\n",
              "      <th>0</th>\n",
              "      <td>BU79786</td>\n",
              "      <td>Washington</td>\n",
              "      <td>Basic</td>\n",
              "      <td>Bachelor</td>\n",
              "      <td>2/24/11</td>\n",
              "      <td>Employed</td>\n",
              "      <td>Suburban</td>\n",
              "      <td>Married</td>\n",
              "      <td>Corporate Auto</td>\n",
              "      <td>Corporate L3</td>\n",
              "      <td>Offer1</td>\n",
              "      <td>Agent</td>\n",
              "      <td>Two-Door Car</td>\n",
              "      <td>Medsize</td>\n",
              "    </tr>\n",
              "    <tr>\n",
              "      <th>1</th>\n",
              "      <td>QZ44356</td>\n",
              "      <td>Arizona</td>\n",
              "      <td>Extended</td>\n",
              "      <td>Bachelor</td>\n",
              "      <td>1/31/11</td>\n",
              "      <td>Unemployed</td>\n",
              "      <td>Suburban</td>\n",
              "      <td>Single</td>\n",
              "      <td>Personal Auto</td>\n",
              "      <td>Personal L3</td>\n",
              "      <td>Offer3</td>\n",
              "      <td>Agent</td>\n",
              "      <td>Four-Door Car</td>\n",
              "      <td>Medsize</td>\n",
              "    </tr>\n",
              "    <tr>\n",
              "      <th>2</th>\n",
              "      <td>AI49188</td>\n",
              "      <td>Nevada</td>\n",
              "      <td>Premium</td>\n",
              "      <td>Bachelor</td>\n",
              "      <td>2/19/11</td>\n",
              "      <td>Employed</td>\n",
              "      <td>Suburban</td>\n",
              "      <td>Married</td>\n",
              "      <td>Personal Auto</td>\n",
              "      <td>Personal L3</td>\n",
              "      <td>Offer1</td>\n",
              "      <td>Agent</td>\n",
              "      <td>Two-Door Car</td>\n",
              "      <td>Medsize</td>\n",
              "    </tr>\n",
              "  </tbody>\n",
              "</table>\n",
              "</div>"
            ],
            "text/plain": [
              "  Customer       State  Coverage Education Effective To Date EmploymentStatus  \\\n",
              "0  BU79786  Washington     Basic  Bachelor           2/24/11         Employed   \n",
              "1  QZ44356     Arizona  Extended  Bachelor           1/31/11       Unemployed   \n",
              "2  AI49188      Nevada   Premium  Bachelor           2/19/11         Employed   \n",
              "\n",
              "  Location Code Marital Status     Policy Type        Policy Renew Offer Type  \\\n",
              "0      Suburban        Married  Corporate Auto  Corporate L3           Offer1   \n",
              "1      Suburban         Single   Personal Auto   Personal L3           Offer3   \n",
              "2      Suburban        Married   Personal Auto   Personal L3           Offer1   \n",
              "\n",
              "  Sales Channel  Vehicle Class Vehicle Size  \n",
              "0         Agent   Two-Door Car      Medsize  \n",
              "1         Agent  Four-Door Car      Medsize  \n",
              "2         Agent   Two-Door Car      Medsize  "
            ]
          },
          "metadata": {
            "tags": []
          },
          "execution_count": 12
        }
      ]
    },
    {
      "metadata": {
        "id": "xyPrv8vH5fxl",
        "colab_type": "code",
        "colab": {
          "autoexec": {
            "startup": false,
            "wait_interval": 0
          },
          "base_uri": "https://localhost:8080/",
          "height": 408
        },
        "outputId": "c5b86ab5-6c0d-4abe-d2ba-0eb6d364a3c0",
        "executionInfo": {
          "status": "ok",
          "timestamp": 1523504527019,
          "user_tz": -240,
          "elapsed": 644,
          "user": {
            "displayName": "Hrant Davtyan",
            "photoUrl": "//lh6.googleusercontent.com/-T6WrkViEJRM/AAAAAAAAAAI/AAAAAAAAAAo/2U9xPrZ3IJI/s50-c-k-no/photo.jpg",
            "userId": "103878521968556709044"
          }
        }
      },
      "cell_type": "code",
      "source": [
        "#drop columns that are assumed to have no contribution to CLV\n",
        "data_dummy = data_dummy.drop([\"Customer\"],axis=1)\n",
        "\n",
        "#for the rest print unqiue values to understand possible future steps\n",
        "for i in data_dummy.columns:\n",
        "  print(i,\":\",data_dummy[i].unique())"
      ],
      "execution_count": 14,
      "outputs": [
        {
          "output_type": "stream",
          "text": [
            "State : ['Washington' 'Arizona' 'Nevada' 'California' 'Oregon']\n",
            "Coverage : ['Basic' 'Extended' 'Premium']\n",
            "Education : ['Bachelor' 'College' 'Master' 'High School or Below' 'Doctor']\n",
            "Effective To Date : ['2/24/11' '1/31/11' '2/19/11' '1/20/11' '2/3/11' '1/25/11' '1/18/11'\n",
            " '1/26/11' '2/17/11' '2/21/11' '1/6/11' '2/6/11' '1/10/11' '1/17/11'\n",
            " '1/5/11' '2/27/11' '1/14/11' '1/21/11' '2/5/11' '1/29/11' '2/28/11'\n",
            " '2/12/11' '2/2/11' '2/7/11' '1/22/11' '2/13/11' '1/15/11' '1/8/11'\n",
            " '1/11/11' '1/28/11' '2/8/11' '2/23/11' '1/2/11' '2/16/11' '1/27/11'\n",
            " '1/23/11' '1/9/11' '2/11/11' '2/4/11' '2/1/11' '2/15/11' '2/26/11'\n",
            " '1/16/11' '1/1/11' '2/10/11' '1/24/11' '2/25/11' '1/12/11' '2/9/11'\n",
            " '1/19/11' '1/4/11' '2/14/11' '2/20/11' '2/18/11' '1/3/11' '1/13/11'\n",
            " '1/30/11' '2/22/11' '1/7/11']\n",
            "EmploymentStatus : ['Employed' 'Unemployed' 'Medical Leave' 'Disabled' 'Retired']\n",
            "Location Code : ['Suburban' 'Rural' 'Urban']\n",
            "Marital Status : ['Married' 'Single' 'Divorced']\n",
            "Policy Type : ['Corporate Auto' 'Personal Auto' 'Special Auto']\n",
            "Policy : ['Corporate L3' 'Personal L3' 'Corporate L2' 'Personal L1' 'Special L2'\n",
            " 'Corporate L1' 'Personal L2' 'Special L1' 'Special L3']\n",
            "Renew Offer Type : ['Offer1' 'Offer3' 'Offer2' 'Offer4']\n",
            "Sales Channel : ['Agent' 'Call Center' 'Web' 'Branch']\n",
            "Vehicle Class : ['Two-Door Car' 'Four-Door Car' 'SUV' 'Luxury SUV' 'Sports Car'\n",
            " 'Luxury Car']\n",
            "Vehicle Size : ['Medsize' 'Small' 'Large']\n"
          ],
          "name": "stdout"
        }
      ]
    },
    {
      "metadata": {
        "id": "vTERjNll6I7p",
        "colab_type": "code",
        "colab": {
          "autoexec": {
            "startup": false,
            "wait_interval": 0
          }
        }
      },
      "cell_type": "code",
      "source": [
        "#define function for encoding categoricals with intrinsic orderd\n",
        "def my_encoder(data,column_name,order_list):\n",
        "  encoded_values = data[column_name].astype(\"category\").cat.reorder_categories(order_list).cat.codes\n",
        "  return encoded_values"
      ],
      "execution_count": 0,
      "outputs": []
    },
    {
      "metadata": {
        "id": "MpHmaJAF6ycW",
        "colab_type": "code",
        "colab": {
          "autoexec": {
            "startup": false,
            "wait_interval": 0
          }
        }
      },
      "cell_type": "code",
      "source": [
        "data_dummy[\"Vehicle Size\"] = my_encoder(data_dummy,\"Vehicle Size\",['Small','Medsize','Large'])\n",
        "data_dummy[\"Coverage\"] = my_encoder(data_dummy,\"Coverage\",['Basic', 'Extended', 'Premium'])\n",
        "data_dummy[\"Education\"] = my_encoder(data_dummy,\"Education\",['High School or Below','College','Bachelor','Master','Doctor'])"
      ],
      "execution_count": 0,
      "outputs": []
    },
    {
      "metadata": {
        "id": "j8NsH0Si70Fq",
        "colab_type": "code",
        "colab": {
          "autoexec": {
            "startup": false,
            "wait_interval": 0
          }
        }
      },
      "cell_type": "code",
      "source": [
        "#convert \"effective to date\" column into datetime format\n",
        "#choose closest date among\n",
        "#use it as base and compare all other dates (substract min) with it\n",
        "#result: Days_effective column\n",
        "data_dummy[\"Days_effective\"] = pd.to_datetime(data_dummy[\"Effective To Date\"])-pd.to_datetime(data_dummy[\"Effective To Date\"]).min()\n",
        "\n",
        "#covert this new column to provide only days as integer (not as datatime)\n",
        "data_dummy.Days_effective = data_dummy.Days_effective.dt.days\n",
        "\n",
        "#drop the row datetime column\n",
        "data_dummy = data_dummy.drop([\"Effective To Date\"],axis=1)"
      ],
      "execution_count": 0,
      "outputs": []
    },
    {
      "metadata": {
        "id": "oiy6Y32N8Sfd",
        "colab_type": "code",
        "colab": {
          "autoexec": {
            "startup": false,
            "wait_interval": 0
          },
          "base_uri": "https://localhost:8080/",
          "height": 3436
        },
        "outputId": "95069ec3-4243-4810-8913-b669fc50d236",
        "executionInfo": {
          "status": "ok",
          "timestamp": 1523504544524,
          "user_tz": -240,
          "elapsed": 3651,
          "user": {
            "displayName": "Hrant Davtyan",
            "photoUrl": "//lh6.googleusercontent.com/-T6WrkViEJRM/AAAAAAAAAAI/AAAAAAAAAAo/2U9xPrZ3IJI/s50-c-k-no/photo.jpg",
            "userId": "103878521968556709044"
          }
        }
      },
      "cell_type": "code",
      "source": [
        "#plot hist for untouched variables to see appropriate transformations\n",
        "#(we will plot all in this dataframe, but take a look at only untouched)\n",
        "for i in data_dummy.columns:\n",
        "  plt.hist(data_dummy[i])\n",
        "  plt.title(i)\n",
        "  plt.show()"
      ],
      "execution_count": 18,
      "outputs": [
        {
          "output_type": "display_data",
          "data": {
            "image/png": "[encoded data removed]",
            "text/plain": [
              "<matplotlib.figure.Figure at 0x7f88b6554ba8>"
            ]
          },
          "metadata": {
            "tags": []
          }
        },
        {
          "output_type": "display_data",
          "data": {
            "image/png": "[encoded data removed]",
            "text/plain": [
              "<matplotlib.figure.Figure at 0x7f88b6729e10>"
            ]
          },
          "metadata": {
            "tags": []
          }
        },
        {
          "output_type": "display_data",
          "data": {
            "image/png": "[encoded data removed]",
            "text/plain": [
              "<matplotlib.figure.Figure at 0x7f88b66744e0>"
            ]
          },
          "metadata": {
            "tags": []
          }
        },
        {
          "output_type": "display_data",
          "data": {
            "image/png": "[encoded data removed]",
            "text/plain": [
              "<matplotlib.figure.Figure at 0x7f88b6729ef0>"
            ]
          },
          "metadata": {
            "tags": []
          }
        },
        {
          "output_type": "display_data",
          "data": {
            "image/png": "[encoded data removed]",
            "text/plain": [
              "<matplotlib.figure.Figure at 0x7f88b66355f8>"
            ]
          },
          "metadata": {
            "tags": []
          }
        },
        {
          "output_type": "display_data",
          "data": {
            "image/png": "[encoded data removed]",
            "text/plain": [
              "<matplotlib.figure.Figure at 0x7f88b41ac438>"
            ]
          },
          "metadata": {
            "tags": []
          }
        },
        {
          "output_type": "display_data",
          "data": {
            "image/png": "[encoded data removed]",
            "text/plain": [
              "<matplotlib.figure.Figure at 0x7f88b40a9668>"
            ]
          },
          "metadata": {
            "tags": []
          }
        },
        {
          "output_type": "display_data",
          "data": {
            "image/png": "[encoded data removed]",
            "text/plain": [
              "<matplotlib.figure.Figure at 0x7f88b40a9940>"
            ]
          },
          "metadata": {
            "tags": []
          }
        },
        {
          "output_type": "display_data",
          "data": {
            "image/png": "[encoded data removed]",
            "text/plain": [
              "<matplotlib.figure.Figure at 0x7f88b654c0b8>"
            ]
          },
          "metadata": {
            "tags": []
          }
        },
        {
          "output_type": "display_data",
          "data": {
            "image/png": "[encoded data removed]",
            "text/plain": [
              "<matplotlib.figure.Figure at 0x7f88b66f97b8>"
            ]
          },
          "metadata": {
            "tags": []
          }
        },
        {
          "output_type": "display_data",
          "data": {
            "image/png": "[encoded data removed]",
            "text/plain": [
              "<matplotlib.figure.Figure at 0x7f88b67a40b8>"
            ]
          },
          "metadata": {
            "tags": []
          }
        },
        {
          "output_type": "display_data",
          "data": {
            "image/png": "[encoded data removed]",
            "text/plain": [
              "<matplotlib.figure.Figure at 0x7f88b42073c8>"
            ]
          },
          "metadata": {
            "tags": []
          }
        },
        {
          "output_type": "display_data",
          "data": {
            "image/png": "[encoded data removed]",
            "text/plain": [
              "<matplotlib.figure.Figure at 0x7f88b41ac048>"
            ]
          },
          "metadata": {
            "tags": []
          }
        }
      ]
    },
    {
      "metadata": {
        "id": "CevDAt1j_Fcg",
        "colab_type": "code",
        "colab": {
          "autoexec": {
            "startup": false,
            "wait_interval": 0
          }
        }
      },
      "cell_type": "code",
      "source": [
        "#as we can see some categoricals have a value that covers more than 50% of observations\n",
        "#for simplicity we will create a var with value 1 for that value and 0 for rest\n",
        "#rest will be converted into dummies\n",
        "\n",
        "#\"mergers\"\n",
        "data_dummy.EmploymentStatus = np.where(data_dummy.EmploymentStatus==\"Employed\",1,0)\n",
        "data_dummy[\"Location Code\"] = np.where(data_dummy[\"Location Code\"]==\"Suburban\",1,0)\n",
        "data_dummy[\"Marital Status\"] = np.where(data_dummy[\"Marital Status\"]==\"Married\",1,0)\n",
        "data_dummy[\"Policy Type\"] = np.where(data_dummy[\"Policy Type\"]==\"Personal Auto\",1,0)\n",
        "data_dummy[\"Vehicle Class\"] = np.where(data_dummy[\"Vehicle Class\"]==\"Four-Door Car\",1,0)\n",
        "\n",
        "#dummies\n",
        "data_dummy = data_dummy.join(pd.get_dummies(data_dummy.State,prefix=\"State\",drop_first=True))\n",
        "data_dummy = data_dummy.join(pd.get_dummies(data_dummy.Policy,prefix=\"Policy\",drop_first=True))\n",
        "data_dummy = data_dummy.join(pd.get_dummies(data_dummy[\"Renew Offer Type\"],prefix=\"Offer\",drop_first=True))\n",
        "data_dummy = data_dummy.join(pd.get_dummies(data_dummy[\"Sales Channel\"],prefix=\"Sales\",drop_first=True))\n",
        "\n",
        "data_dummy = data_dummy.drop([\"State\",\"Policy\",\"Renew Offer Type\",\"Sales Channel\"],axis=1)\n",
        "\n",
        "#join results to numeric and save into new dataframe called \"data\"\n",
        "data = data_numeric.join(data_dummy)"
      ],
      "execution_count": 0,
      "outputs": []
    },
    {
      "metadata": {
        "id": "TEQm7Zad9Alm",
        "colab_type": "code",
        "colab": {
          "autoexec": {
            "startup": false,
            "wait_interval": 0
          }
        }
      },
      "cell_type": "code",
      "source": [
        "#scale data_dummy dataframe as well (there ar enot only dummies actually,for example, we have days as well)\n",
        "data_dummy_scaled = data_dummy.apply(my_scaler)\n",
        "\n",
        "#join it with scaled numeric and save into new dataframe called \"DATA\"\n",
        "DATA = data_scaled.join(data_dummy_scaled)\n",
        "\n",
        "#afterwards, UPPERCASE is for scaled, lowercase is for unscaled data"
      ],
      "execution_count": 0,
      "outputs": []
    },
    {
      "metadata": {
        "id": "usDJN2j1RQUr",
        "colab_type": "text"
      },
      "cell_type": "markdown",
      "source": [
        "### Modeling"
      ]
    },
    {
      "metadata": {
        "id": "3gHhjgaEBx1L",
        "colab_type": "code",
        "colab": {
          "autoexec": {
            "startup": false,
            "wait_interval": 0
          }
        }
      },
      "cell_type": "code",
      "source": [
        "#unscaled\n",
        "y = data[\"Customer Lifetime Value\"]\n",
        "x = data.drop(\"Customer Lifetime Value\",axis=1)\n",
        "\n",
        "#scaled\n",
        "Y = DATA[\"Customer Lifetime Value\"]\n",
        "X = DATA.drop(\"Customer Lifetime Value\",axis=1)"
      ],
      "execution_count": 0,
      "outputs": []
    },
    {
      "metadata": {
        "id": "GXOmOQaWBszV",
        "colab_type": "code",
        "colab": {
          "autoexec": {
            "startup": false,
            "wait_interval": 0
          }
        }
      },
      "cell_type": "code",
      "source": [
        "#for similpicity, we will set up a bit tuned models instead of dafeault\n",
        "model_tree = DecisionTreeRegressor(max_depth=5,random_state=42)\n",
        "model_linear = LinearRegression()\n",
        "model_rf = RandomForestRegressor(n_estimators=100,max_depth=5,random_state=42)\n",
        "model_gb = GradientBoostingRegressor(random_state=42)"
      ],
      "execution_count": 0,
      "outputs": []
    },
    {
      "metadata": {
        "id": "z32FwCLDBswu",
        "colab_type": "code",
        "colab": {
          "autoexec": {
            "startup": false,
            "wait_interval": 0
          }
        }
      },
      "cell_type": "code",
      "source": [
        "x_train, x_test, y_train, y_test = train_test_split(x,y,test_size=0.25,random_state=42)\n",
        "X_train, X_test, Y_train, Y_test = train_test_split(X,Y,test_size=0.25,random_state=42)"
      ],
      "execution_count": 0,
      "outputs": []
    },
    {
      "metadata": {
        "id": "884Ev1LbBsuA",
        "colab_type": "code",
        "colab": {
          "autoexec": {
            "startup": false,
            "wait_interval": 0
          },
          "base_uri": "https://localhost:8080/",
          "height": 799
        },
        "outputId": "27a9bd22-0a4b-4513-9366-58942d63e675",
        "executionInfo": {
          "status": "ok",
          "timestamp": 1523505947437,
          "user_tz": -240,
          "elapsed": 3581,
          "user": {
            "displayName": "Hrant Davtyan",
            "photoUrl": "//lh6.googleusercontent.com/-T6WrkViEJRM/AAAAAAAAAAI/AAAAAAAAAAo/2U9xPrZ3IJI/s50-c-k-no/photo.jpg",
            "userId": "103878521968556709044"
          }
        }
      },
      "cell_type": "code",
      "source": [
        "#unscaled\n",
        "#fit all 4 models, make prediction and compare it to true values (using MSE)\n",
        "#rake sqrt(MSE) to get RMSE, round up both to 2 decimals, print\n",
        "model_tree.fit(x_train,y_train)\n",
        "model_linear.fit(x_train,y_train)\n",
        "model_rf.fit(x_train,y_train)\n",
        "model_gb.fit(x_train,y_train)\n",
        "\n",
        "#train\n",
        "tree_p_0 = model_tree.predict(x_train)\n",
        "line_p_0 = model_linear.predict(x_train)\n",
        "rf_p_0 = model_rf.predict(x_train)\n",
        "gb_p_0 = model_gb.predict(x_train)\n",
        "\n",
        "#test\n",
        "tree_p = model_tree.predict(x_test)\n",
        "line_p = model_linear.predict(x_test)\n",
        "rf_p = model_rf.predict(x_test)\n",
        "gb_p = model_gb.predict(x_test)\n",
        "\n",
        "print(\"Train\")\n",
        "for i in [tree_p_0,line_p_0,rf_p_0,gb_p_0]:\n",
        "  print(\"RMSE:\",np.round(np.sqrt(mean_squared_error(y_train,i)),decimals=2))\n",
        "  print(\"MSE\",np.round(mean_squared_error(y_train,i),decimals=2))\n",
        "  print(\"\\n\")\n",
        "\n",
        "\n",
        "print(\"Test\")\n",
        "for i in [tree_p,line_p,rf_p,gb_p]:\n",
        "  print(\"RMSE:\",np.round(np.sqrt(mean_squared_error(y_test,i)),decimals=2))\n",
        "  print(\"MSE\",np.round(mean_squared_error(y_test,i),decimals=2))\n",
        "  print(\"\\n\")\n",
        "  \n",
        "  \n",
        "#print also R2 for train and test components\n",
        "print(\"Train\")\n",
        "\n",
        "print(np.round(model_tree.score(x_train,y_train)*100,decimals=2))\n",
        "print(np.round(model_linear.score(x_train,y_train)*100,decimals=2))\n",
        "print(np.round(model_rf.score(x_train,y_train)*100,decimals=2))\n",
        "print(np.round(model_gb.score(x_train,y_train)*100,decimals=2))\n",
        "\n",
        "print(\"\\n\")\n",
        "print(\"Test\")\n",
        "\n",
        "print(np.round(model_tree.score(x_test,y_test)*100,decimals=2))\n",
        "print(np.round(model_linear.score(x_test,y_test)*100,decimals=2))\n",
        "print(np.round(model_rf.score(x_test,y_test)*100,decimals=2))\n",
        "print(np.round(model_gb.score(x_test,y_test)*100,decimals=2))"
      ],
      "execution_count": 26,
      "outputs": [
        {
          "output_type": "stream",
          "text": [
            "Train\n",
            "RMSE: 3720.73\n",
            "MSE 13843859.25\n",
            "\n",
            "\n",
            "RMSE: 6182.66\n",
            "MSE 38225268.73\n",
            "\n",
            "\n",
            "RMSE: 3643.39\n",
            "MSE 13274279.83\n",
            "\n",
            "\n",
            "RMSE: 3485.05\n",
            "MSE 12145591.41\n",
            "\n",
            "\n",
            "Test\n",
            "RMSE: 4227.85\n",
            "MSE 17874675.32\n",
            "\n",
            "\n",
            "RMSE: 6530.85\n",
            "MSE 42652048.96\n",
            "\n",
            "\n",
            "RMSE: 4089.25\n",
            "MSE 16721929.84\n",
            "\n",
            "\n",
            "RMSE: 4088.33\n",
            "MSE 16714467.04\n",
            "\n",
            "\n",
            "Train\n",
            "70.03\n",
            "17.26\n",
            "71.27\n",
            "73.71\n",
            "\n",
            "\n",
            "Test\n",
            "64.41\n",
            "15.08\n",
            "66.71\n",
            "66.72\n"
          ],
          "name": "stdout"
        }
      ]
    },
    {
      "metadata": {
        "id": "tuTRDulACRvG",
        "colab_type": "text"
      },
      "cell_type": "markdown",
      "source": [
        "Results show that according to Test MSE GB and RF (and GB among them) are the best. In terms of variance between train and test results (overfitting), Linear model is winning, yet it is pretty inaccurate. Among GB and RF, RF has less overfitting as expected. We may apply the same approach for scaled data."
      ]
    },
    {
      "metadata": {
        "id": "oWHBRLUSWl0n",
        "colab_type": "code",
        "colab": {
          "autoexec": {
            "startup": false,
            "wait_interval": 0
          },
          "base_uri": "https://localhost:8080/",
          "height": 799
        },
        "outputId": "f6b65a22-a027-4042-d734-cc591e1fea23",
        "executionInfo": {
          "status": "ok",
          "timestamp": 1523506300717,
          "user_tz": -240,
          "elapsed": 3903,
          "user": {
            "displayName": "Hrant Davtyan",
            "photoUrl": "//lh6.googleusercontent.com/-T6WrkViEJRM/AAAAAAAAAAI/AAAAAAAAAAo/2U9xPrZ3IJI/s50-c-k-no/photo.jpg",
            "userId": "103878521968556709044"
          }
        }
      },
      "cell_type": "code",
      "source": [
        "#unscaled\n",
        "#fit all 4 models, make prediction and compare it to true values (using MSE)\n",
        "#rake sqrt(MSE) to get RMSE, round up both to 5 decimals, print\n",
        "model_tree.fit(X_train,Y_train)\n",
        "model_linear.fit(X_train,Y_train)\n",
        "model_rf.fit(X_train,Y_train)\n",
        "model_gb.fit(X_train,Y_train)\n",
        "\n",
        "#train\n",
        "tree_p_0 = model_tree.predict(X_train)\n",
        "line_p_0 = model_linear.predict(X_train)\n",
        "rf_p_0 = model_rf.predict(X_train)\n",
        "gb_p_0 = model_gb.predict(X_train)\n",
        "\n",
        "#test\n",
        "tree_p = model_tree.predict(X_test)\n",
        "line_p = model_linear.predict(X_test)\n",
        "rf_p = model_rf.predict(X_test)\n",
        "gb_p = model_gb.predict(X_test)\n",
        "\n",
        "print(\"Train\")\n",
        "for i in [tree_p_0,line_p_0,rf_p_0,gb_p_0]:\n",
        "  print(\"RMSE:\",np.round(np.sqrt(mean_squared_error(Y_train,i)),decimals=5))\n",
        "  print(\"MSE\",np.round(mean_squared_error(Y_train,i),decimals=5))\n",
        "  print(\"\\n\")\n",
        "\n",
        "\n",
        "print(\"Test\")\n",
        "for i in [tree_p,line_p,rf_p,gb_p]:\n",
        "  print(\"RMSE:\",np.round(np.sqrt(mean_squared_error(Y_test,i)),decimals=5))\n",
        "  print(\"MSE\",np.round(mean_squared_error(Y_test,i),decimals=5))\n",
        "  print(\"\\n\")\n",
        "  \n",
        "  \n",
        "#print also R2 for train and test components\n",
        "print(\"Train\")\n",
        "\n",
        "print(np.round(model_tree.score(X_train,Y_train)*100,decimals=5))\n",
        "print(np.round(model_linear.score(X_train,Y_train)*100,decimals=5))\n",
        "print(np.round(model_rf.score(X_train,Y_train)*100,decimals=5))\n",
        "print(np.round(model_gb.score(X_train,Y_train)*100,decimals=5))\n",
        "\n",
        "print(\"\\n\")\n",
        "print(\"Test\")\n",
        "\n",
        "print(np.round(model_tree.score(X_test,Y_test)*100,decimals=5))\n",
        "print(np.round(model_linear.score(X_test,Y_test)*100,decimals=5))\n",
        "print(np.round(model_rf.score(X_test,Y_test)*100,decimals=5))\n",
        "print(np.round(model_gb.score(X_test,Y_test)*100,decimals=5))"
      ],
      "execution_count": 28,
      "outputs": [
        {
          "output_type": "stream",
          "text": [
            "Train\n",
            "RMSE: 0.04465\n",
            "MSE 0.00199\n",
            "\n",
            "\n",
            "RMSE: 0.07425\n",
            "MSE 0.00551\n",
            "\n",
            "\n",
            "RMSE: 0.04373\n",
            "MSE 0.00191\n",
            "\n",
            "\n",
            "RMSE: 0.04182\n",
            "MSE 0.00175\n",
            "\n",
            "\n",
            "Test\n",
            "RMSE: 0.05074\n",
            "MSE 0.00257\n",
            "\n",
            "\n",
            "RMSE: 0.07834\n",
            "MSE 0.00614\n",
            "\n",
            "\n",
            "RMSE: 0.04908\n",
            "MSE 0.00241\n",
            "\n",
            "\n",
            "RMSE: 0.04906\n",
            "MSE 0.00241\n",
            "\n",
            "\n",
            "Train\n",
            "70.0329\n",
            "17.13261\n",
            "71.26525\n",
            "73.70905\n",
            "\n",
            "\n",
            "Test\n",
            "64.41244\n",
            "15.16027\n",
            "66.69783\n",
            "66.72236\n"
          ],
          "name": "stdout"
        }
      ]
    },
    {
      "metadata": {
        "id": "RnuDorzvDZ8P",
        "colab_type": "text"
      },
      "cell_type": "markdown",
      "source": [
        "As expected tree based models did not experience any improvement, yet the inaccrate linear model became less inaccurate."
      ]
    }
  ]
}