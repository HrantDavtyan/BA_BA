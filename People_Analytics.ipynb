{
  "nbformat": 4,
  "nbformat_minor": 0,
  "metadata": {
    "colab": {
      "name": "People_Analytics",
      "version": "0.3.2",
      "views": {},
      "default_view": {},
      "provenance": [],
      "collapsed_sections": []
    },
    "kernelspec": {
      "name": "python3",
      "display_name": "Python 3"
    }
  },
  "cells": [
    {
      "metadata": {
        "id": "aXUe2t47KWWP",
        "colab_type": "text"
      },
      "cell_type": "markdown",
      "source": [
        "<h1 align=\"center\"> People Analytics</h1>\n",
        "\n",
        "This Jupyter Notebook provides introduction to People analytics with Python. The dataset is provided in Moodle course folder and also available [here](https://github.com/HrantDavtyan/BA_BA). It includes different variables (features) that describe employees in some company. Among them the one we will target is **churn**, which has the value of 1 is an employee has left the company, and 0 otherwise. We will start from Descriptive Analytics making some high level analysis and conclusions, and then follow to predictive.\n",
        "\n",
        "Download the data and place it in your working directory (in lab computers, it is the ADStudent folder). Placing in working directory provides us the opportunity to easily read the file by calling its name. In our case it is a csv file called **turnvover.csv**, therefore, we will use `read_csv()` function from **pandas** to read it.\n",
        "\n",
        "## Descriptive Analytics"
      ]
    },
    {
      "metadata": {
        "id": "piR2iL6_Mf4S",
        "colab_type": "code",
        "colab": {
          "autoexec": {
            "startup": false,
            "wait_interval": 0
          }
        }
      },
      "cell_type": "code",
      "source": [
        "# importing libraries\n",
        "import pandas as pd\n",
        "import numpy as np\n",
        "import matplotlib.pyplot as plt\n",
        "import seaborn as sns"
      ],
      "execution_count": 0,
      "outputs": []
    },
    {
      "metadata": {
        "id": "SSgEYEk0KVaY",
        "colab_type": "code",
        "colab": {
          "autoexec": {
            "startup": false,
            "wait_interval": 0
          },
          "output_extras": [
            {
              "item_id": 1
            }
          ],
          "base_uri": "https://localhost:8080/",
          "height": 204
        },
        "outputId": "f3083399-4b50-40e2-b940-435dacc8de7e",
        "executionInfo": {
          "status": "ok",
          "timestamp": 1518777568845,
          "user_tz": -240,
          "elapsed": 751,
          "user": {
            "displayName": "Hrant Davtyan",
            "photoUrl": "//lh6.googleusercontent.com/-T6WrkViEJRM/AAAAAAAAAAI/AAAAAAAAAAo/2U9xPrZ3IJI/s50-c-k-no/photo.jpg",
            "userId": "103878521968556709044"
          }
        }
      },
      "cell_type": "code",
      "source": [
        "# reading the data and showing first 5 rows\n",
        "people_data = pd.read_csv('turnover.csv')\n",
        "people_data.head()"
      ],
      "execution_count": 3,
      "outputs": [
        {
          "output_type": "execute_result",
          "data": {
            "text/html": [
              "<div>\n",
              "<style scoped>\n",
              "    .dataframe tbody tr th:only-of-type {\n",
              "        vertical-align: middle;\n",
              "    }\n",
              "\n",
              "    .dataframe tbody tr th {\n",
              "        vertical-align: top;\n",
              "    }\n",
              "\n",
              "    .dataframe thead th {\n",
              "        text-align: right;\n",
              "    }\n",
              "</style>\n",
              "<table border=\"1\" class=\"dataframe\">\n",
              "  <thead>\n",
              "    <tr style=\"text-align: right;\">\n",
              "      <th></th>\n",
              "      <th>satisfaction_level</th>\n",
              "      <th>last_evaluation</th>\n",
              "      <th>number_project</th>\n",
              "      <th>average_montly_hours</th>\n",
              "      <th>time_spend_company</th>\n",
              "      <th>work_accident</th>\n",
              "      <th>churn</th>\n",
              "      <th>promotion_last_5years</th>\n",
              "      <th>department</th>\n",
              "      <th>salary</th>\n",
              "    </tr>\n",
              "  </thead>\n",
              "  <tbody>\n",
              "    <tr>\n",
              "      <th>0</th>\n",
              "      <td>0.38</td>\n",
              "      <td>0.53</td>\n",
              "      <td>2</td>\n",
              "      <td>157</td>\n",
              "      <td>3</td>\n",
              "      <td>0</td>\n",
              "      <td>1</td>\n",
              "      <td>0</td>\n",
              "      <td>sales</td>\n",
              "      <td>low</td>\n",
              "    </tr>\n",
              "    <tr>\n",
              "      <th>1</th>\n",
              "      <td>0.80</td>\n",
              "      <td>0.86</td>\n",
              "      <td>5</td>\n",
              "      <td>262</td>\n",
              "      <td>6</td>\n",
              "      <td>0</td>\n",
              "      <td>1</td>\n",
              "      <td>0</td>\n",
              "      <td>sales</td>\n",
              "      <td>medium</td>\n",
              "    </tr>\n",
              "    <tr>\n",
              "      <th>2</th>\n",
              "      <td>0.11</td>\n",
              "      <td>0.88</td>\n",
              "      <td>7</td>\n",
              "      <td>272</td>\n",
              "      <td>4</td>\n",
              "      <td>0</td>\n",
              "      <td>1</td>\n",
              "      <td>0</td>\n",
              "      <td>sales</td>\n",
              "      <td>medium</td>\n",
              "    </tr>\n",
              "    <tr>\n",
              "      <th>3</th>\n",
              "      <td>0.72</td>\n",
              "      <td>0.87</td>\n",
              "      <td>5</td>\n",
              "      <td>223</td>\n",
              "      <td>5</td>\n",
              "      <td>0</td>\n",
              "      <td>1</td>\n",
              "      <td>0</td>\n",
              "      <td>sales</td>\n",
              "      <td>low</td>\n",
              "    </tr>\n",
              "    <tr>\n",
              "      <th>4</th>\n",
              "      <td>0.37</td>\n",
              "      <td>0.52</td>\n",
              "      <td>2</td>\n",
              "      <td>159</td>\n",
              "      <td>3</td>\n",
              "      <td>0</td>\n",
              "      <td>1</td>\n",
              "      <td>0</td>\n",
              "      <td>sales</td>\n",
              "      <td>low</td>\n",
              "    </tr>\n",
              "  </tbody>\n",
              "</table>\n",
              "</div>"
            ],
            "text/plain": [
              "   satisfaction_level  last_evaluation  number_project  average_montly_hours  \\\n",
              "0                0.38             0.53               2                   157   \n",
              "1                0.80             0.86               5                   262   \n",
              "2                0.11             0.88               7                   272   \n",
              "3                0.72             0.87               5                   223   \n",
              "4                0.37             0.52               2                   159   \n",
              "\n",
              "   time_spend_company  work_accident  churn  promotion_last_5years department  \\\n",
              "0                   3              0      1                      0      sales   \n",
              "1                   6              0      1                      0      sales   \n",
              "2                   4              0      1                      0      sales   \n",
              "3                   5              0      1                      0      sales   \n",
              "4                   3              0      1                      0      sales   \n",
              "\n",
              "   salary  \n",
              "0     low  \n",
              "1  medium  \n",
              "2  medium  \n",
              "3     low  \n",
              "4     low  "
            ]
          },
          "metadata": {
            "tags": []
          },
          "execution_count": 3
        }
      ]
    },
    {
      "metadata": {
        "id": "hvG7QJy2Kurh",
        "colab_type": "code",
        "colab": {
          "autoexec": {
            "startup": false,
            "wait_interval": 0
          },
          "output_extras": [
            {
              "item_id": 1
            }
          ],
          "base_uri": "https://localhost:8080/",
          "height": 272
        },
        "outputId": "d8995047-a509-48a3-b4cb-6d6d0acb5a0c",
        "executionInfo": {
          "status": "ok",
          "timestamp": 1518777649447,
          "user_tz": -240,
          "elapsed": 791,
          "user": {
            "displayName": "Hrant Davtyan",
            "photoUrl": "//lh6.googleusercontent.com/-T6WrkViEJRM/AAAAAAAAAAI/AAAAAAAAAAo/2U9xPrZ3IJI/s50-c-k-no/photo.jpg",
            "userId": "103878521968556709044"
          }
        }
      },
      "cell_type": "code",
      "source": [
        "# as you can see the last two columns are not numeric\n",
        "# let's get some detailed info on the whole DataFrame including those last 2 columns\n",
        "people_data.info()"
      ],
      "execution_count": 4,
      "outputs": [
        {
          "output_type": "stream",
          "text": [
            "<class 'pandas.core.frame.DataFrame'>\n",
            "RangeIndex: 14999 entries, 0 to 14998\n",
            "Data columns (total 10 columns):\n",
            "satisfaction_level       14999 non-null float64\n",
            "last_evaluation          14999 non-null float64\n",
            "number_project           14999 non-null int64\n",
            "average_montly_hours     14999 non-null int64\n",
            "time_spend_company       14999 non-null int64\n",
            "work_accident            14999 non-null int64\n",
            "churn                    14999 non-null int64\n",
            "promotion_last_5years    14999 non-null int64\n",
            "department               14999 non-null object\n",
            "salary                   14999 non-null object\n",
            "dtypes: float64(2), int64(6), object(2)\n",
            "memory usage: 1.1+ MB\n"
          ],
          "name": "stdout"
        }
      ]
    },
    {
      "metadata": {
        "id": "NiFgfah4M7Hz",
        "colab_type": "text"
      },
      "cell_type": "markdown",
      "source": [
        "As you can see, we have 14999 observations in the dataset and that many observations in each separate column. This means that there is no column/variable in our dataset that has a missing value (empty cell). What else we can see, is that the last two columns (department and salary) have the type of **object**. This is the result of having text instead of numbers in that columns. Those variables are called **categorical**.\n",
        "\n",
        "To transform a cateogrical variable into numeric, we have to understand it's type first. There are two types of categorical variables: **ordinal** and **nominal**. Ordinal variables have two or more categories that can be ranked or ordered. In our case that is the **salary** column, where the values clearly have a logical order.\n",
        "The 2nd type is Nominal, where categories do not have any intrnisic or logical order. An example of this kind of variable in our dataset is the column **department**, as its values clearly do not have any order or rank: sales department is not higher than hr or viceversa and so on.\n",
        "\n",
        "Based on what type of categorical variable you have, there are different methods for transforming them. \n",
        "\n",
        "**Ordinal (ordered)**\n",
        "\n",
        "For the case of ordinal variables we can encode categories by converting each of them into a respective numeric value. There are 3 steps to accomplish that tasks in Python.\n",
        " - First, we have to tell Python, that the column salary is actually categorical. This is done using a method called **astype()** which is providing the type of the variable.\n",
        " - Then, once Python knows that it is a categorical variable, we have to tell the correct order of categories, using cat.reorder_categories() method. As you can see in the code, this method takes a list as an input, where the correct order of categories is provided.\n",
        " - Last but not least, we have to use cat.codes method to encode each category with a numeric value given our order. The result will overwrite the old values of salary column with new numeric values as presented in the table.\n",
        "\n",
        "<br>\n",
        "**Nominal (unordered)**\n",
        "\n",
        "The next categorical variable is nominal, as there is no order or rank between departments. This means that encoding approach is not useful anymore. In this case, transformation should be accomplished trough the so called dummy variables.\n",
        "\n",
        "Dumym variables are the variables that get only two values 0 or 1. Let's say an employee is from IT department. This means if we have a searate column for each department, then the mentioned employee will have value of 1 in the column for IT and 0 in the columns of all other departments.\n",
        "\n",
        "This means we will have to create a new dataframe where each department is a separate column and each row is a separate employee with 1s in front of his/her department is 0 in all other places. While the task seems to be confusing, it is very easy from technical perspective due to a very nice function from pandas called **get_dummies()**.\n",
        "\n",
        "<br>\n",
        "So let's take a close look and understand what values those **categorical** variables get."
      ]
    },
    {
      "metadata": {
        "id": "vTlDOyJQK9UE",
        "colab_type": "code",
        "colab": {
          "autoexec": {
            "startup": false,
            "wait_interval": 0
          },
          "output_extras": [
            {
              "item_id": 1
            }
          ],
          "base_uri": "https://localhost:8080/",
          "height": 51
        },
        "outputId": "4a925613-6c35-4c28-a8be-7b3ae6b24552",
        "executionInfo": {
          "status": "ok",
          "timestamp": 1518777675105,
          "user_tz": -240,
          "elapsed": 890,
          "user": {
            "displayName": "Hrant Davtyan",
            "photoUrl": "//lh6.googleusercontent.com/-T6WrkViEJRM/AAAAAAAAAAI/AAAAAAAAAAo/2U9xPrZ3IJI/s50-c-k-no/photo.jpg",
            "userId": "103878521968556709044"
          }
        }
      },
      "cell_type": "code",
      "source": [
        "# unordered\n",
        "people_data.department.unique()"
      ],
      "execution_count": 5,
      "outputs": [
        {
          "output_type": "execute_result",
          "data": {
            "text/plain": [
              "array(['sales', 'accounting', 'hr', 'technical', 'support', 'management',\n",
              "       'IT', 'product_mng', 'marketing', 'RandD'], dtype=object)"
            ]
          },
          "metadata": {
            "tags": []
          },
          "execution_count": 5
        }
      ]
    },
    {
      "metadata": {
        "id": "RAXsZkIcK9QT",
        "colab_type": "code",
        "colab": {
          "autoexec": {
            "startup": false,
            "wait_interval": 0
          },
          "output_extras": [
            {
              "item_id": 1
            }
          ],
          "base_uri": "https://localhost:8080/",
          "height": 34
        },
        "outputId": "7c62239d-5116-4ecd-b2bb-90ca743e2545",
        "executionInfo": {
          "status": "ok",
          "timestamp": 1518777675891,
          "user_tz": -240,
          "elapsed": 724,
          "user": {
            "displayName": "Hrant Davtyan",
            "photoUrl": "//lh6.googleusercontent.com/-T6WrkViEJRM/AAAAAAAAAAI/AAAAAAAAAAo/2U9xPrZ3IJI/s50-c-k-no/photo.jpg",
            "userId": "103878521968556709044"
          }
        }
      },
      "cell_type": "code",
      "source": [
        "#ordered\n",
        "people_data.salary.unique()"
      ],
      "execution_count": 6,
      "outputs": [
        {
          "output_type": "execute_result",
          "data": {
            "text/plain": [
              "array(['low', 'medium', 'high'], dtype=object)"
            ]
          },
          "metadata": {
            "tags": []
          },
          "execution_count": 6
        }
      ]
    },
    {
      "metadata": {
        "id": "_zRDd33TK_6f",
        "colab_type": "code",
        "colab": {
          "autoexec": {
            "startup": false,
            "wait_interval": 0
          }
        }
      },
      "cell_type": "code",
      "source": [
        "#encoding categories\n",
        "people_data.salary = people_data.salary.astype(\"category\").cat.reorder_categories([\"low\",\"medium\",\"high\"]).cat.codes"
      ],
      "execution_count": 0,
      "outputs": []
    },
    {
      "metadata": {
        "id": "O3e5Zi5xK_3n",
        "colab_type": "code",
        "colab": {
          "autoexec": {
            "startup": false,
            "wait_interval": 0
          },
          "output_extras": [
            {
              "item_id": 1
            }
          ],
          "base_uri": "https://localhost:8080/",
          "height": 204
        },
        "outputId": "4e391481-7ddd-4400-e628-6eb527fead37",
        "executionInfo": {
          "status": "ok",
          "timestamp": 1518777694322,
          "user_tz": -240,
          "elapsed": 761,
          "user": {
            "displayName": "Hrant Davtyan",
            "photoUrl": "//lh6.googleusercontent.com/-T6WrkViEJRM/AAAAAAAAAAI/AAAAAAAAAAo/2U9xPrZ3IJI/s50-c-k-no/photo.jpg",
            "userId": "103878521968556709044"
          }
        }
      },
      "cell_type": "code",
      "source": [
        "departments = pd.get_dummies(people_data.department)\n",
        "departments = departments.drop([\"accounting\"],axis=1)\n",
        "departments.head()"
      ],
      "execution_count": 8,
      "outputs": [
        {
          "output_type": "execute_result",
          "data": {
            "text/html": [
              "<div>\n",
              "<style scoped>\n",
              "    .dataframe tbody tr th:only-of-type {\n",
              "        vertical-align: middle;\n",
              "    }\n",
              "\n",
              "    .dataframe tbody tr th {\n",
              "        vertical-align: top;\n",
              "    }\n",
              "\n",
              "    .dataframe thead th {\n",
              "        text-align: right;\n",
              "    }\n",
              "</style>\n",
              "<table border=\"1\" class=\"dataframe\">\n",
              "  <thead>\n",
              "    <tr style=\"text-align: right;\">\n",
              "      <th></th>\n",
              "      <th>IT</th>\n",
              "      <th>RandD</th>\n",
              "      <th>hr</th>\n",
              "      <th>management</th>\n",
              "      <th>marketing</th>\n",
              "      <th>product_mng</th>\n",
              "      <th>sales</th>\n",
              "      <th>support</th>\n",
              "      <th>technical</th>\n",
              "    </tr>\n",
              "  </thead>\n",
              "  <tbody>\n",
              "    <tr>\n",
              "      <th>0</th>\n",
              "      <td>0</td>\n",
              "      <td>0</td>\n",
              "      <td>0</td>\n",
              "      <td>0</td>\n",
              "      <td>0</td>\n",
              "      <td>0</td>\n",
              "      <td>1</td>\n",
              "      <td>0</td>\n",
              "      <td>0</td>\n",
              "    </tr>\n",
              "    <tr>\n",
              "      <th>1</th>\n",
              "      <td>0</td>\n",
              "      <td>0</td>\n",
              "      <td>0</td>\n",
              "      <td>0</td>\n",
              "      <td>0</td>\n",
              "      <td>0</td>\n",
              "      <td>1</td>\n",
              "      <td>0</td>\n",
              "      <td>0</td>\n",
              "    </tr>\n",
              "    <tr>\n",
              "      <th>2</th>\n",
              "      <td>0</td>\n",
              "      <td>0</td>\n",
              "      <td>0</td>\n",
              "      <td>0</td>\n",
              "      <td>0</td>\n",
              "      <td>0</td>\n",
              "      <td>1</td>\n",
              "      <td>0</td>\n",
              "      <td>0</td>\n",
              "    </tr>\n",
              "    <tr>\n",
              "      <th>3</th>\n",
              "      <td>0</td>\n",
              "      <td>0</td>\n",
              "      <td>0</td>\n",
              "      <td>0</td>\n",
              "      <td>0</td>\n",
              "      <td>0</td>\n",
              "      <td>1</td>\n",
              "      <td>0</td>\n",
              "      <td>0</td>\n",
              "    </tr>\n",
              "    <tr>\n",
              "      <th>4</th>\n",
              "      <td>0</td>\n",
              "      <td>0</td>\n",
              "      <td>0</td>\n",
              "      <td>0</td>\n",
              "      <td>0</td>\n",
              "      <td>0</td>\n",
              "      <td>1</td>\n",
              "      <td>0</td>\n",
              "      <td>0</td>\n",
              "    </tr>\n",
              "  </tbody>\n",
              "</table>\n",
              "</div>"
            ],
            "text/plain": [
              "   IT  RandD  hr  management  marketing  product_mng  sales  support  \\\n",
              "0   0      0   0           0          0            0      1        0   \n",
              "1   0      0   0           0          0            0      1        0   \n",
              "2   0      0   0           0          0            0      1        0   \n",
              "3   0      0   0           0          0            0      1        0   \n",
              "4   0      0   0           0          0            0      1        0   \n",
              "\n",
              "   technical  \n",
              "0          0  \n",
              "1          0  \n",
              "2          0  \n",
              "3          0  \n",
              "4          0  "
            ]
          },
          "metadata": {
            "tags": []
          },
          "execution_count": 8
        }
      ]
    },
    {
      "metadata": {
        "id": "fgUET-qMK_0_",
        "colab_type": "code",
        "colab": {
          "autoexec": {
            "startup": false,
            "wait_interval": 0
          },
          "output_extras": [
            {
              "item_id": 1
            }
          ],
          "base_uri": "https://localhost:8080/",
          "height": 204
        },
        "outputId": "14edfd85-fcfb-4618-8b6c-9be10b050bb2",
        "executionInfo": {
          "status": "ok",
          "timestamp": 1518777704499,
          "user_tz": -240,
          "elapsed": 849,
          "user": {
            "displayName": "Hrant Davtyan",
            "photoUrl": "//lh6.googleusercontent.com/-T6WrkViEJRM/AAAAAAAAAAI/AAAAAAAAAAo/2U9xPrZ3IJI/s50-c-k-no/photo.jpg",
            "userId": "103878521968556709044"
          }
        }
      },
      "cell_type": "code",
      "source": [
        "people_data = people_data.drop([\"department\"],axis=1)\n",
        "people_data.head()"
      ],
      "execution_count": 9,
      "outputs": [
        {
          "output_type": "execute_result",
          "data": {
            "text/html": [
              "<div>\n",
              "<style scoped>\n",
              "    .dataframe tbody tr th:only-of-type {\n",
              "        vertical-align: middle;\n",
              "    }\n",
              "\n",
              "    .dataframe tbody tr th {\n",
              "        vertical-align: top;\n",
              "    }\n",
              "\n",
              "    .dataframe thead th {\n",
              "        text-align: right;\n",
              "    }\n",
              "</style>\n",
              "<table border=\"1\" class=\"dataframe\">\n",
              "  <thead>\n",
              "    <tr style=\"text-align: right;\">\n",
              "      <th></th>\n",
              "      <th>satisfaction_level</th>\n",
              "      <th>last_evaluation</th>\n",
              "      <th>number_project</th>\n",
              "      <th>average_montly_hours</th>\n",
              "      <th>time_spend_company</th>\n",
              "      <th>work_accident</th>\n",
              "      <th>churn</th>\n",
              "      <th>promotion_last_5years</th>\n",
              "      <th>salary</th>\n",
              "    </tr>\n",
              "  </thead>\n",
              "  <tbody>\n",
              "    <tr>\n",
              "      <th>0</th>\n",
              "      <td>0.38</td>\n",
              "      <td>0.53</td>\n",
              "      <td>2</td>\n",
              "      <td>157</td>\n",
              "      <td>3</td>\n",
              "      <td>0</td>\n",
              "      <td>1</td>\n",
              "      <td>0</td>\n",
              "      <td>0</td>\n",
              "    </tr>\n",
              "    <tr>\n",
              "      <th>1</th>\n",
              "      <td>0.80</td>\n",
              "      <td>0.86</td>\n",
              "      <td>5</td>\n",
              "      <td>262</td>\n",
              "      <td>6</td>\n",
              "      <td>0</td>\n",
              "      <td>1</td>\n",
              "      <td>0</td>\n",
              "      <td>1</td>\n",
              "    </tr>\n",
              "    <tr>\n",
              "      <th>2</th>\n",
              "      <td>0.11</td>\n",
              "      <td>0.88</td>\n",
              "      <td>7</td>\n",
              "      <td>272</td>\n",
              "      <td>4</td>\n",
              "      <td>0</td>\n",
              "      <td>1</td>\n",
              "      <td>0</td>\n",
              "      <td>1</td>\n",
              "    </tr>\n",
              "    <tr>\n",
              "      <th>3</th>\n",
              "      <td>0.72</td>\n",
              "      <td>0.87</td>\n",
              "      <td>5</td>\n",
              "      <td>223</td>\n",
              "      <td>5</td>\n",
              "      <td>0</td>\n",
              "      <td>1</td>\n",
              "      <td>0</td>\n",
              "      <td>0</td>\n",
              "    </tr>\n",
              "    <tr>\n",
              "      <th>4</th>\n",
              "      <td>0.37</td>\n",
              "      <td>0.52</td>\n",
              "      <td>2</td>\n",
              "      <td>159</td>\n",
              "      <td>3</td>\n",
              "      <td>0</td>\n",
              "      <td>1</td>\n",
              "      <td>0</td>\n",
              "      <td>0</td>\n",
              "    </tr>\n",
              "  </tbody>\n",
              "</table>\n",
              "</div>"
            ],
            "text/plain": [
              "   satisfaction_level  last_evaluation  number_project  average_montly_hours  \\\n",
              "0                0.38             0.53               2                   157   \n",
              "1                0.80             0.86               5                   262   \n",
              "2                0.11             0.88               7                   272   \n",
              "3                0.72             0.87               5                   223   \n",
              "4                0.37             0.52               2                   159   \n",
              "\n",
              "   time_spend_company  work_accident  churn  promotion_last_5years  salary  \n",
              "0                   3              0      1                      0       0  \n",
              "1                   6              0      1                      0       1  \n",
              "2                   4              0      1                      0       1  \n",
              "3                   5              0      1                      0       0  \n",
              "4                   3              0      1                      0       0  "
            ]
          },
          "metadata": {
            "tags": []
          },
          "execution_count": 9
        }
      ]
    },
    {
      "metadata": {
        "id": "pQ1LjZnhK_xP",
        "colab_type": "code",
        "colab": {
          "autoexec": {
            "startup": false,
            "wait_interval": 0
          },
          "output_extras": [
            {
              "item_id": 1
            }
          ],
          "base_uri": "https://localhost:8080/",
          "height": 68
        },
        "outputId": "35c2e629-60ef-4923-c4bd-c9145e20d839",
        "executionInfo": {
          "status": "ok",
          "timestamp": 1518777706519,
          "user_tz": -240,
          "elapsed": 767,
          "user": {
            "displayName": "Hrant Davtyan",
            "photoUrl": "//lh6.googleusercontent.com/-T6WrkViEJRM/AAAAAAAAAAI/AAAAAAAAAAo/2U9xPrZ3IJI/s50-c-k-no/photo.jpg",
            "userId": "103878521968556709044"
          }
        }
      },
      "cell_type": "code",
      "source": [
        "100.0*people_data.churn.value_counts()/len(people_data)"
      ],
      "execution_count": 10,
      "outputs": [
        {
          "output_type": "execute_result",
          "data": {
            "text/plain": [
              "0    76.191746\n",
              "1    23.808254\n",
              "Name: churn, dtype: float64"
            ]
          },
          "metadata": {
            "tags": []
          },
          "execution_count": 10
        }
      ]
    },
    {
      "metadata": {
        "id": "8ldn62JsLOJ6",
        "colab_type": "code",
        "colab": {
          "autoexec": {
            "startup": false,
            "wait_interval": 0
          },
          "output_extras": [
            {
              "item_id": 1
            }
          ],
          "base_uri": "https://localhost:8080/",
          "height": 438
        },
        "outputId": "204c3140-be51-4437-a767-e51bebefebce",
        "executionInfo": {
          "status": "ok",
          "timestamp": 1518777710838,
          "user_tz": -240,
          "elapsed": 823,
          "user": {
            "displayName": "Hrant Davtyan",
            "photoUrl": "//lh6.googleusercontent.com/-T6WrkViEJRM/AAAAAAAAAAI/AAAAAAAAAAo/2U9xPrZ3IJI/s50-c-k-no/photo.jpg",
            "userId": "103878521968556709044"
          }
        }
      },
      "cell_type": "code",
      "source": [
        "sns.heatmap(people_data.corr())\n",
        "plt.show()"
      ],
      "execution_count": 11,
      "outputs": [
        {
          "output_type": "display_data",
          "data": {
            "image/png": "[encoded data removed]",
            "text/plain": [
              "<matplotlib.figure.Figure at 0x7f6656383518>"
            ]
          },
          "metadata": {
            "tags": []
          }
        }
      ]
    },
    {
      "metadata": {
        "id": "YS2-soQ2LOHB",
        "colab_type": "code",
        "colab": {
          "autoexec": {
            "startup": false,
            "wait_interval": 0
          },
          "output_extras": [
            {
              "item_id": 1
            }
          ],
          "base_uri": "https://localhost:8080/",
          "height": 361
        },
        "outputId": "d5f0e548-2463-4141-97f4-5034cf930e4d",
        "executionInfo": {
          "status": "ok",
          "timestamp": 1518777712828,
          "user_tz": -240,
          "elapsed": 876,
          "user": {
            "displayName": "Hrant Davtyan",
            "photoUrl": "//lh6.googleusercontent.com/-T6WrkViEJRM/AAAAAAAAAAI/AAAAAAAAAAo/2U9xPrZ3IJI/s50-c-k-no/photo.jpg",
            "userId": "103878521968556709044"
          }
        }
      },
      "cell_type": "code",
      "source": [
        "sns.distplot(people_data.satisfaction_level)\n",
        "plt.show()"
      ],
      "execution_count": 12,
      "outputs": [
        {
          "output_type": "display_data",
          "data": {
            "image/png": "[encoded data removed]",
            "text/plain": [
              "<matplotlib.figure.Figure at 0x7f6656310198>"
            ]
          },
          "metadata": {
            "tags": []
          }
        }
      ]
    },
    {
      "metadata": {
        "id": "FmN7oi4rLOER",
        "colab_type": "code",
        "colab": {
          "autoexec": {
            "startup": false,
            "wait_interval": 0
          }
        }
      },
      "cell_type": "code",
      "source": [
        "people_data = people_data.join(departments)"
      ],
      "execution_count": 0,
      "outputs": []
    },
    {
      "metadata": {
        "id": "s3BQwU0uLRLh",
        "colab_type": "text"
      },
      "cell_type": "markdown",
      "source": [
        "## Predictive Analytics\n",
        "\n",
        "Starting from here we will start applying predictive analytics on the people_data that we have transformed above. Our target is to predict employee **churn**. We will use everythins else (all other variables) predict it. As **churn** takes only two values, 0 and 1, we need to apply some classifications algorithms. As we know, when choosing an algorithm in predictive analytics, there are many tradeoffs we need to take into account.\n",
        "1. Interpretability vs Accuracy: some algorithms are able to provide more accurate results than others, yet cannot be economically interpreted. Neaural Network is an example of a such algorithm. As in People analytics we care not only for Outcome but also about the Process, we want to understand the variables driving the Outcome. Thus, we need an algorithm that is Interpretable. For that reason we will use **Logistic Regression** and **Decision Tree** algorithms. Our expectation is that \"**logit**\" will be less accurate than \"**tree**\" as it is just a linear classifier and is not able to fit nonlinear dataset. \n",
        "\n",
        "2. Accuracy vs Generalization: While we should target to have as accurate algorithm as possible first, one thing else we need to take into account is generalization. We should have an algorithm that is developed based on our data, but can be used to make predictions for obervations (people) out of our dataset. In other words, we need to have an algorithm that does not **overfit** our dataset. Our expectation is that \"**logit**\" will hav eless overfitting than \"**tree**\" as being only one signle straight line does not allow the model to overfit.\n",
        "\n",
        "Last but not least, we will split our dataset into Train and Test components. The algorithm will be developed based on the Train part, but it will be validated using Test component. Once we acchive an accurate model, we will start to tune it to fight overfitting."
      ]
    },
    {
      "metadata": {
        "id": "Pvwb0VC-LRoR",
        "colab_type": "code",
        "colab": {
          "autoexec": {
            "startup": false,
            "wait_interval": 0
          }
        }
      },
      "cell_type": "code",
      "source": [
        "# importing necessary libraries\n",
        "from sklearn.tree import DecisionTreeClassifier\n",
        "from sklearn.linear_model import LogisticRegression\n",
        "from sklearn.model_selection import train_test_split"
      ],
      "execution_count": 0,
      "outputs": []
    },
    {
      "metadata": {
        "id": "TpwbvsUjLSWL",
        "colab_type": "code",
        "colab": {
          "autoexec": {
            "startup": false,
            "wait_interval": 0
          }
        }
      },
      "cell_type": "code",
      "source": [
        "# renaming the algorithms\n",
        "# we do not give any arameter other than random_state=42\n",
        "# thus, we will use for now default parameter values\n",
        "model_tree = DecisionTreeClassifier(random_state=42)\n",
        "model_logit = LogisticRegression(random_state=42)"
      ],
      "execution_count": 0,
      "outputs": []
    },
    {
      "metadata": {
        "id": "y7i9R5a1LSTi",
        "colab_type": "code",
        "colab": {
          "autoexec": {
            "startup": false,
            "wait_interval": 0
          }
        }
      },
      "cell_type": "code",
      "source": [
        "y = people_data.churn\n",
        "x = people_data.drop(\"churn\",axis=1)"
      ],
      "execution_count": 0,
      "outputs": []
    },
    {
      "metadata": {
        "id": "fjJOrY7tLSQp",
        "colab_type": "code",
        "colab": {
          "autoexec": {
            "startup": false,
            "wait_interval": 0
          }
        }
      },
      "cell_type": "code",
      "source": [
        "# split 75% train and 25% test\n",
        "x_train, x_test, y_train, y_test = train_test_split(x,y,test_size=0.25,random_state=42)"
      ],
      "execution_count": 0,
      "outputs": []
    },
    {
      "metadata": {
        "id": "UBIeMFix9GGV",
        "colab_type": "text"
      },
      "cell_type": "markdown",
      "source": [
        "#### Decision Tree (with default parameters)"
      ]
    },
    {
      "metadata": {
        "id": "0Pl-37phLRrB",
        "colab_type": "code",
        "colab": {
          "autoexec": {
            "startup": false,
            "wait_interval": 0
          },
          "output_extras": [
            {
              "item_id": 1
            }
          ],
          "base_uri": "https://localhost:8080/",
          "height": 119
        },
        "outputId": "eca187b0-19ec-49eb-a27c-b1742f41d1c4",
        "executionInfo": {
          "status": "ok",
          "timestamp": 1518777728295,
          "user_tz": -240,
          "elapsed": 864,
          "user": {
            "displayName": "Hrant Davtyan",
            "photoUrl": "//lh6.googleusercontent.com/-T6WrkViEJRM/AAAAAAAAAAI/AAAAAAAAAAo/2U9xPrZ3IJI/s50-c-k-no/photo.jpg",
            "userId": "103878521968556709044"
          }
        }
      },
      "cell_type": "code",
      "source": [
        "# fit the tree with default parameters\n",
        "model_tree.fit(x_train,y_train)"
      ],
      "execution_count": 18,
      "outputs": [
        {
          "output_type": "execute_result",
          "data": {
            "text/plain": [
              "DecisionTreeClassifier(class_weight=None, criterion='gini', max_depth=None,\n",
              "            max_features=None, max_leaf_nodes=None,\n",
              "            min_impurity_decrease=0.0, min_impurity_split=None,\n",
              "            min_samples_leaf=1, min_samples_split=2,\n",
              "            min_weight_fraction_leaf=0.0, presort=False, random_state=42,\n",
              "            splitter='best')"
            ]
          },
          "metadata": {
            "tags": []
          },
          "execution_count": 18
        }
      ]
    },
    {
      "metadata": {
        "id": "ExipEreVLgSB",
        "colab_type": "code",
        "colab": {
          "autoexec": {
            "startup": false,
            "wait_interval": 0
          },
          "output_extras": [
            {
              "item_id": 1
            }
          ],
          "base_uri": "https://localhost:8080/",
          "height": 34
        },
        "outputId": "72d96329-42fb-468e-b36b-66b8cbda0a3d",
        "executionInfo": {
          "status": "ok",
          "timestamp": 1518777729069,
          "user_tz": -240,
          "elapsed": 718,
          "user": {
            "displayName": "Hrant Davtyan",
            "photoUrl": "//lh6.googleusercontent.com/-T6WrkViEJRM/AAAAAAAAAAI/AAAAAAAAAAo/2U9xPrZ3IJI/s50-c-k-no/photo.jpg",
            "userId": "103878521968556709044"
          }
        }
      },
      "cell_type": "code",
      "source": [
        "# perfect accuracy on training set\n",
        "model_tree.score(x_train,y_train)*100"
      ],
      "execution_count": 19,
      "outputs": [
        {
          "output_type": "execute_result",
          "data": {
            "text/plain": [
              "100.0"
            ]
          },
          "metadata": {
            "tags": []
          },
          "execution_count": 19
        }
      ]
    },
    {
      "metadata": {
        "id": "QeCUBKsWLgPI",
        "colab_type": "code",
        "colab": {
          "autoexec": {
            "startup": false,
            "wait_interval": 0
          },
          "output_extras": [
            {
              "item_id": 1
            }
          ],
          "base_uri": "https://localhost:8080/",
          "height": 34
        },
        "outputId": "cdc652f4-de13-4fda-84f3-e485bc1c655a",
        "executionInfo": {
          "status": "ok",
          "timestamp": 1518777729832,
          "user_tz": -240,
          "elapsed": 696,
          "user": {
            "displayName": "Hrant Davtyan",
            "photoUrl": "//lh6.googleusercontent.com/-T6WrkViEJRM/AAAAAAAAAAI/AAAAAAAAAAo/2U9xPrZ3IJI/s50-c-k-no/photo.jpg",
            "userId": "103878521968556709044"
          }
        }
      },
      "cell_type": "code",
      "source": [
        "# less accuracy on test, which speaks about overfitting\n",
        "model_tree.score(x_test,y_test)*100"
      ],
      "execution_count": 20,
      "outputs": [
        {
          "output_type": "execute_result",
          "data": {
            "text/plain": [
              "97.22666666666666"
            ]
          },
          "metadata": {
            "tags": []
          },
          "execution_count": 20
        }
      ]
    },
    {
      "metadata": {
        "id": "KsqVYRlpL4jB",
        "colab_type": "text"
      },
      "cell_type": "markdown",
      "source": [
        "#### Logstic Regression (with default parameters)"
      ]
    },
    {
      "metadata": {
        "id": "CKrWQ93hLgMJ",
        "colab_type": "code",
        "colab": {
          "autoexec": {
            "startup": false,
            "wait_interval": 0
          },
          "output_extras": [
            {
              "item_id": 1
            }
          ],
          "base_uri": "https://localhost:8080/",
          "height": 34
        },
        "outputId": "57b9a25e-26cf-45ff-cbfe-753de8bded9e",
        "executionInfo": {
          "status": "ok",
          "timestamp": 1518777731816,
          "user_tz": -240,
          "elapsed": 882,
          "user": {
            "displayName": "Hrant Davtyan",
            "photoUrl": "//lh6.googleusercontent.com/-T6WrkViEJRM/AAAAAAAAAAI/AAAAAAAAAAo/2U9xPrZ3IJI/s50-c-k-no/photo.jpg",
            "userId": "103878521968556709044"
          }
        }
      },
      "cell_type": "code",
      "source": [
        "# much lower accuracy compared to the perfect score of the tree\n",
        "model_logit.fit(x_train,y_train)\n",
        "model_logit.score(x_train,y_train)*100"
      ],
      "execution_count": 21,
      "outputs": [
        {
          "output_type": "execute_result",
          "data": {
            "text/plain": [
              "79.5715174682194"
            ]
          },
          "metadata": {
            "tags": []
          },
          "execution_count": 21
        }
      ]
    },
    {
      "metadata": {
        "id": "1LEIwkgkLgJX",
        "colab_type": "code",
        "colab": {
          "autoexec": {
            "startup": false,
            "wait_interval": 0
          },
          "output_extras": [
            {
              "item_id": 1
            }
          ],
          "base_uri": "https://localhost:8080/",
          "height": 34
        },
        "outputId": "df63cc66-6bc3-4da1-99e7-42503b36ed2e",
        "executionInfo": {
          "status": "ok",
          "timestamp": 1518777732694,
          "user_tz": -240,
          "elapsed": 809,
          "user": {
            "displayName": "Hrant Davtyan",
            "photoUrl": "//lh6.googleusercontent.com/-T6WrkViEJRM/AAAAAAAAAAI/AAAAAAAAAAo/2U9xPrZ3IJI/s50-c-k-no/photo.jpg",
            "userId": "103878521968556709044"
          }
        }
      },
      "cell_type": "code",
      "source": [
        "# almost the same result on test, which speaks about the absence of overfitting\n",
        "model_logit.score(x_test,y_test)*100"
      ],
      "execution_count": 22,
      "outputs": [
        {
          "output_type": "execute_result",
          "data": {
            "text/plain": [
              "79.09333333333333"
            ]
          },
          "metadata": {
            "tags": []
          },
          "execution_count": 22
        }
      ]
    },
    {
      "metadata": {
        "id": "v_V2hFDX9Lox",
        "colab_type": "text"
      },
      "cell_type": "markdown",
      "source": [
        "As you can see \"**logit**\" has much less accuracy than \"**tree**\". Moreover, the accuracy of logit is quite close to the benchmarked accuracy (i.e. 76% are staying, which means if we classify everybody as stayer we will have 76% accuracy). On the other hand, as provided by the close accuracy scores of train and test components, logit is not overfitting, while tree does.\n",
        "\n",
        "Therefore, we will choose to use the tree model, as it has better accuracy, but we have to tune it to fight overfitting. First we will provide maximum depth for the tree to limit its growth then minimum sample size in the leafs. The latter will achieve same results as limiting depth."
      ]
    },
    {
      "metadata": {
        "id": "G0ShmoHpL3s-",
        "colab_type": "text"
      },
      "cell_type": "markdown",
      "source": [
        "#### Decision Tree (with max_depth=7)"
      ]
    },
    {
      "metadata": {
        "id": "UVSRj2UKLmVo",
        "colab_type": "code",
        "colab": {
          "autoexec": {
            "startup": false,
            "wait_interval": 0
          },
          "output_extras": [
            {
              "item_id": 1
            }
          ],
          "base_uri": "https://localhost:8080/",
          "height": 34
        },
        "outputId": "ad78b8d3-6e3e-40eb-e1db-54a10ad479bf",
        "executionInfo": {
          "status": "ok",
          "timestamp": 1518777733610,
          "user_tz": -240,
          "elapsed": 850,
          "user": {
            "displayName": "Hrant Davtyan",
            "photoUrl": "//lh6.googleusercontent.com/-T6WrkViEJRM/AAAAAAAAAAI/AAAAAAAAAAo/2U9xPrZ3IJI/s50-c-k-no/photo.jpg",
            "userId": "103878521968556709044"
          }
        }
      },
      "cell_type": "code",
      "source": [
        "# let's limit the depth now to 7\n",
        "model_tree_7 = DecisionTreeClassifier(max_depth = 7, random_state=42)\n",
        "model_tree_7.fit(x_train,y_train)\n",
        "model_tree_7.score(x_train,y_train)*100"
      ],
      "execution_count": 23,
      "outputs": [
        {
          "output_type": "execute_result",
          "data": {
            "text/plain": [
              "98.28429193706107"
            ]
          },
          "metadata": {
            "tags": []
          },
          "execution_count": 23
        }
      ]
    },
    {
      "metadata": {
        "id": "KaC-1YGsLmPo",
        "colab_type": "code",
        "colab": {
          "autoexec": {
            "startup": false,
            "wait_interval": 0
          },
          "output_extras": [
            {
              "item_id": 1
            }
          ],
          "base_uri": "https://localhost:8080/",
          "height": 34
        },
        "outputId": "c2da74c7-4f0e-42f1-c631-098b71584acf",
        "executionInfo": {
          "status": "ok",
          "timestamp": 1518777734532,
          "user_tz": -240,
          "elapsed": 632,
          "user": {
            "displayName": "Hrant Davtyan",
            "photoUrl": "//lh6.googleusercontent.com/-T6WrkViEJRM/AAAAAAAAAAI/AAAAAAAAAAo/2U9xPrZ3IJI/s50-c-k-no/photo.jpg",
            "userId": "103878521968556709044"
          }
        }
      },
      "cell_type": "code",
      "source": [
        "model_tree_7.score(x_test,y_test)*100"
      ],
      "execution_count": 24,
      "outputs": [
        {
          "output_type": "execute_result",
          "data": {
            "text/plain": [
              "97.41333333333333"
            ]
          },
          "metadata": {
            "tags": []
          },
          "execution_count": 24
        }
      ]
    },
    {
      "metadata": {
        "id": "7UH_6_ZyL2O7",
        "colab_type": "text"
      },
      "cell_type": "markdown",
      "source": [
        "#### Decision Tree (with min_samples_leaf=100)"
      ]
    },
    {
      "metadata": {
        "id": "cERELE6DLmMv",
        "colab_type": "code",
        "colab": {
          "autoexec": {
            "startup": false,
            "wait_interval": 0
          },
          "output_extras": [
            {
              "item_id": 1
            }
          ],
          "base_uri": "https://localhost:8080/",
          "height": 34
        },
        "outputId": "b2d6342b-4c73-486a-cf76-b076d3d8acdd",
        "executionInfo": {
          "status": "ok",
          "timestamp": 1518777735406,
          "user_tz": -240,
          "elapsed": 813,
          "user": {
            "displayName": "Hrant Davtyan",
            "photoUrl": "//lh6.googleusercontent.com/-T6WrkViEJRM/AAAAAAAAAAI/AAAAAAAAAAo/2U9xPrZ3IJI/s50-c-k-no/photo.jpg",
            "userId": "103878521968556709044"
          }
        }
      },
      "cell_type": "code",
      "source": [
        "# let's limit the sample size in leafs to 100\n",
        "model_tree_100 = DecisionTreeClassifier(min_samples_leaf=100,random_state=42)\n",
        "model_tree_7.fit(x_train,y_train)\n",
        "model_tree_7.score(x_train,y_train)*100"
      ],
      "execution_count": 25,
      "outputs": [
        {
          "output_type": "execute_result",
          "data": {
            "text/plain": [
              "98.28429193706107"
            ]
          },
          "metadata": {
            "tags": []
          },
          "execution_count": 25
        }
      ]
    },
    {
      "metadata": {
        "id": "EbzGhrQoLrUc",
        "colab_type": "code",
        "colab": {
          "autoexec": {
            "startup": false,
            "wait_interval": 0
          },
          "output_extras": [
            {
              "item_id": 1
            }
          ],
          "base_uri": "https://localhost:8080/",
          "height": 34
        },
        "outputId": "90ebdb74-c512-48b0-b0a1-71fca035cb7d",
        "executionInfo": {
          "status": "ok",
          "timestamp": 1518777736181,
          "user_tz": -240,
          "elapsed": 689,
          "user": {
            "displayName": "Hrant Davtyan",
            "photoUrl": "//lh6.googleusercontent.com/-T6WrkViEJRM/AAAAAAAAAAI/AAAAAAAAAAo/2U9xPrZ3IJI/s50-c-k-no/photo.jpg",
            "userId": "103878521968556709044"
          }
        }
      },
      "cell_type": "code",
      "source": [
        "model_tree_7.score(x_test,y_test)*100"
      ],
      "execution_count": 26,
      "outputs": [
        {
          "output_type": "execute_result",
          "data": {
            "text/plain": [
              "97.41333333333333"
            ]
          },
          "metadata": {
            "tags": []
          },
          "execution_count": 26
        }
      ]
    },
    {
      "metadata": {
        "id": "RNk8N1BpLz0W",
        "colab_type": "text"
      },
      "cell_type": "markdown",
      "source": [
        "As shown by the accuracy scores, while we achieved worse results on the Training set, accuracy is higher on the Test component, compared to the default model\n",
        "\n",
        "Next, we need to learn what are the important variables among all, that provided this result. We may also plot the tree."
      ]
    }
  ]
}